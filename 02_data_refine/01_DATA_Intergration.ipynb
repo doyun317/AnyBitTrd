{
 "cells": [
  {
   "cell_type": "code",
   "execution_count": 1,
   "metadata": {
    "scrolled": true
   },
   "outputs": [
    {
     "data": {
      "text/plain": [
       "['.ipynb_checkpoints',\n",
       " 'Data pre-processing.ipynb',\n",
       " 'DATA_Intergration.ipynb',\n",
       " 'data_out.ipynb',\n",
       " 'test2.ipynb',\n",
       " 'test3_0630_activation.ipynb',\n",
       " 'test3_0630_latent_dim.ipynb',\n",
       " 'test6_0712_best.ipynb',\n",
       " 'vae practice-Copy2.ipynb',\n",
       " '데이터 재구조화.ipynb']"
      ]
     },
     "execution_count": 1,
     "metadata": {},
     "output_type": "execute_result"
    }
   ],
   "source": [
    "import os\n",
    "import pandas as pd\n",
    "import numpy as np\n",
    "from glob import glob\n",
    "os.listdir()"
   ]
  },
  {
   "cell_type": "code",
   "execution_count": 9,
   "metadata": {},
   "outputs": [
    {
     "data": {
      "text/plain": [
       "'..'"
      ]
     },
     "execution_count": 9,
     "metadata": {},
     "output_type": "execute_result"
    }
   ],
   "source": [
    "os.pardir"
   ]
  },
  {
   "cell_type": "code",
   "execution_count": 23,
   "metadata": {},
   "outputs": [],
   "source": [
    "candle_dir=\"../01_raw_data/candle\""
   ]
  },
  {
   "cell_type": "code",
   "execution_count": 24,
   "metadata": {},
   "outputs": [],
   "source": [
    "candle_list=os.listdir(candle_dir)"
   ]
  },
  {
   "cell_type": "code",
   "execution_count": 29,
   "metadata": {},
   "outputs": [
    {
     "data": {
      "text/plain": [
       "['BTC', 'ETH', 'LTC', 'XLM', 'XRP']"
      ]
     },
     "execution_count": 29,
     "metadata": {},
     "output_type": "execute_result"
    }
   ],
   "source": [
    "candle_list"
   ]
  },
  {
   "cell_type": "code",
   "execution_count": 30,
   "metadata": {},
   "outputs": [],
   "source": [
    "path_list=[]\n",
    "for i in range(5):\n",
    "    path = candle_dir+'/'+candle_list[i]+'/'\n",
    "    path_list.append(path)"
   ]
  },
  {
   "cell_type": "code",
   "execution_count": 31,
   "metadata": {},
   "outputs": [
    {
     "data": {
      "text/plain": [
       "['../01_raw_data/candle/BTC/',\n",
       " '../01_raw_data/candle/ETH/',\n",
       " '../01_raw_data/candle/LTC/',\n",
       " '../01_raw_data/candle/XLM/',\n",
       " '../01_raw_data/candle/XRP/']"
      ]
     },
     "execution_count": 31,
     "metadata": {},
     "output_type": "execute_result"
    }
   ],
   "source": [
    "path_list"
   ]
  },
  {
   "cell_type": "code",
   "execution_count": 32,
   "metadata": {},
   "outputs": [
    {
     "data": {
      "text/plain": [
       "['../01_raw_data/candle/BTC\\\\BTC_1804.csv',\n",
       " '../01_raw_data/candle/BTC\\\\BTC_1805.csv',\n",
       " '../01_raw_data/candle/BTC\\\\BTC_1806.csv',\n",
       " '../01_raw_data/candle/BTC\\\\BTC_1807.csv',\n",
       " '../01_raw_data/candle/BTC\\\\BTC_1808.csv',\n",
       " '../01_raw_data/candle/BTC\\\\BTC_1809.csv',\n",
       " '../01_raw_data/candle/BTC\\\\BTC_1810.csv',\n",
       " '../01_raw_data/candle/BTC\\\\BTC_1811.csv',\n",
       " '../01_raw_data/candle/BTC\\\\BTC_1812.csv',\n",
       " '../01_raw_data/candle/BTC\\\\BTC_1901.csv',\n",
       " '../01_raw_data/candle/BTC\\\\BTC_1902.csv',\n",
       " '../01_raw_data/candle/BTC\\\\BTC_1903.csv',\n",
       " '../01_raw_data/candle/BTC\\\\BTC_1904.csv',\n",
       " '../01_raw_data/candle/BTC\\\\BTC_1905.csv',\n",
       " '../01_raw_data/candle/BTC\\\\BTC_1906.csv',\n",
       " '../01_raw_data/candle/BTC\\\\BTC_1907.csv',\n",
       " '../01_raw_data/candle/BTC\\\\BTC_1908.csv',\n",
       " '../01_raw_data/candle/BTC\\\\BTC_1909.csv',\n",
       " '../01_raw_data/candle/BTC\\\\BTC_1910.csv',\n",
       " '../01_raw_data/candle/BTC\\\\BTC_1911.csv',\n",
       " '../01_raw_data/candle/BTC\\\\BTC_1912.csv',\n",
       " '../01_raw_data/candle/BTC\\\\BTC_2001.csv',\n",
       " '../01_raw_data/candle/BTC\\\\BTC_2002.csv',\n",
       " '../01_raw_data/candle/BTC\\\\BTC_2003.csv',\n",
       " '../01_raw_data/candle/BTC\\\\BTC_2004.csv',\n",
       " '../01_raw_data/candle/BTC\\\\BTC_2005.csv',\n",
       " '../01_raw_data/candle/BTC\\\\BTC_2006.csv',\n",
       " '../01_raw_data/candle/BTC\\\\BTC_2007.csv',\n",
       " '../01_raw_data/candle/BTC\\\\BTC_2008.csv',\n",
       " '../01_raw_data/candle/BTC\\\\BTC_2009.csv',\n",
       " '../01_raw_data/candle/BTC\\\\BTC_2010.csv',\n",
       " '../01_raw_data/candle/BTC\\\\BTC_2011.csv',\n",
       " '../01_raw_data/candle/BTC\\\\BTC_2012.csv',\n",
       " '../01_raw_data/candle/BTC\\\\BTC_2101.csv',\n",
       " '../01_raw_data/candle/BTC\\\\BTC_2102.csv',\n",
       " '../01_raw_data/candle/BTC\\\\BTC_2103.csv']"
      ]
     },
     "execution_count": 32,
     "metadata": {},
     "output_type": "execute_result"
    }
   ],
   "source": [
    "glob(path_list[0]+\"*.csv\")"
   ]
  },
  {
   "cell_type": "code",
   "execution_count": 33,
   "metadata": {},
   "outputs": [],
   "source": [
    "merge_name_list = [\"BTC_USDT.csv\",\"ETH_USDT.csv\",\"LTC_USDT.csv\",\"XLM_USDT.csv\",\"XRP_USDT.csv\"]"
   ]
  },
  {
   "cell_type": "code",
   "execution_count": 34,
   "metadata": {},
   "outputs": [
    {
     "name": "stdout",
     "output_type": "stream",
     "text": [
      "BTC_1804.csv write complete...\n",
      "BTC_1805.csv write complete...\n",
      "BTC_1806.csv write complete...\n",
      "BTC_1807.csv write complete...\n",
      "BTC_1808.csv write complete...\n",
      "BTC_1809.csv write complete...\n",
      "BTC_1810.csv write complete...\n",
      "BTC_1811.csv write complete...\n",
      "BTC_1812.csv write complete...\n",
      "BTC_1901.csv write complete...\n",
      "BTC_1902.csv write complete...\n",
      "BTC_1903.csv write complete...\n",
      "BTC_1904.csv write complete...\n",
      "BTC_1905.csv write complete...\n",
      "BTC_1906.csv write complete...\n",
      "BTC_1907.csv write complete...\n",
      "BTC_1908.csv write complete...\n",
      "BTC_1909.csv write complete...\n",
      "BTC_1910.csv write complete...\n",
      "BTC_1911.csv write complete...\n",
      "BTC_1912.csv write complete...\n",
      "BTC_2001.csv write complete...\n",
      "BTC_2002.csv write complete...\n",
      "BTC_2003.csv write complete...\n",
      "BTC_2004.csv write complete...\n",
      "BTC_2005.csv write complete...\n",
      "BTC_2006.csv write complete...\n",
      "BTC_2007.csv write complete...\n",
      "BTC_2008.csv write complete...\n",
      "BTC_2009.csv write complete...\n",
      "BTC_2010.csv write complete...\n",
      "BTC_2011.csv write complete...\n",
      "BTC_2012.csv write complete...\n",
      "BTC_2101.csv write complete...\n",
      "BTC_2102.csv write complete...\n",
      "BTC_2103.csv write complete...\n",
      ">>> All file merge complete...\n",
      "ETH_1804.csv write complete...\n",
      "ETH_1805.csv write complete...\n",
      "ETH_1806.csv write complete...\n",
      "ETH_1807.csv write complete...\n",
      "ETH_1808.csv write complete...\n",
      "ETH_1809.csv write complete...\n",
      "ETH_1810.csv write complete...\n",
      "ETH_1811.csv write complete...\n",
      "ETH_1812.csv write complete...\n",
      "ETH_1901.csv write complete...\n",
      "ETH_1902.csv write complete...\n",
      "ETH_1903.csv write complete...\n",
      "ETH_1904.csv write complete...\n",
      "ETH_1905.csv write complete...\n",
      "ETH_1906.csv write complete...\n",
      "ETH_1907.csv write complete...\n",
      "ETH_1908.csv write complete...\n",
      "ETH_1909.csv write complete...\n",
      "ETH_1910.csv write complete...\n",
      "ETH_1911.csv write complete...\n",
      "ETH_1912.csv write complete...\n",
      "ETH_2001.csv write complete...\n",
      "ETH_2002.csv write complete...\n",
      "ETH_2003.csv write complete...\n",
      "ETH_2004.csv write complete...\n",
      "ETH_2005.csv write complete...\n",
      "ETH_2006.csv write complete...\n",
      "ETH_2007.csv write complete...\n",
      "ETH_2008.csv write complete...\n",
      "ETH_2009.csv write complete...\n",
      "ETH_2010.csv write complete...\n",
      "ETH_2011.csv write complete...\n",
      "ETH_2012.csv write complete...\n",
      "ETH_2101.csv write complete...\n",
      "ETH_2102.csv write complete...\n",
      "ETH_2103.csv write complete...\n",
      ">>> All file merge complete...\n",
      "LTC_1804.csv write complete...\n",
      "LTC_1805.csv write complete...\n",
      "LTC_1806.csv write complete...\n",
      "LTC_1807.csv write complete...\n",
      "LTC_1808.csv write complete...\n",
      "LTC_1809.csv write complete...\n",
      "LTC_1810.csv write complete...\n",
      "LTC_1811.csv write complete...\n",
      "LTC_1812.csv write complete...\n",
      "LTC_1901.csv write complete...\n",
      "LTC_1902.csv write complete...\n",
      "LTC_1903.csv write complete...\n",
      "LTC_1904.csv write complete...\n",
      "LTC_1905.csv write complete...\n",
      "LTC_1906.csv write complete...\n",
      "LTC_1907.csv write complete...\n",
      "LTC_1908.csv write complete...\n",
      "LTC_1909.csv write complete...\n",
      "LTC_1910.csv write complete...\n",
      "LTC_1911.csv write complete...\n",
      "LTC_1912.csv write complete...\n",
      "LTC_2001.csv write complete...\n",
      "LTC_2002.csv write complete...\n",
      "LTC_2003.csv write complete...\n",
      "LTC_2004.csv write complete...\n",
      "LTC_2005.csv write complete...\n",
      "LTC_2006.csv write complete...\n",
      "LTC_2007.csv write complete...\n",
      "LTC_2008.csv write complete...\n",
      "LTC_2009.csv write complete...\n",
      "LTC_2010.csv write complete...\n",
      "LTC_2011.csv write complete...\n",
      "LTC_2012.csv write complete...\n",
      "LTC_2101.csv write complete...\n",
      "LTC_2102.csv write complete...\n",
      "LTC_2103.csv write complete...\n",
      ">>> All file merge complete...\n",
      "XLM_1805.csv write complete...\n",
      "XLM_1806.csv write complete...\n",
      "XLM_1807.csv write complete...\n",
      "XLM_1808.csv write complete...\n",
      "XLM_1809.csv write complete...\n",
      "XLM_1810.csv write complete...\n",
      "XLM_1811.csv write complete...\n",
      "XLM_1812.csv write complete...\n",
      "XLM_1901.csv write complete...\n",
      "XLM_1902.csv write complete...\n",
      "XLM_1903.csv write complete...\n",
      "XLM_1904.csv write complete...\n",
      "XLM_1905.csv write complete...\n",
      "XLM_1906.csv write complete...\n",
      "XLM_1907.csv write complete...\n",
      "XLM_1908.csv write complete...\n",
      "XLM_1909.csv write complete...\n",
      "XLM_1910.csv write complete...\n",
      "XLM_1911.csv write complete...\n",
      "XLM_1912.csv write complete...\n",
      "XLM_2001.csv write complete...\n",
      "XLM_2002.csv write complete...\n",
      "XLM_2003.csv write complete...\n",
      "XLM_2004.csv write complete...\n",
      "XLM_2005.csv write complete...\n",
      "XLM_2006.csv write complete...\n",
      "XLM_2007.csv write complete...\n",
      "XLM_2008.csv write complete...\n",
      "XLM_2009.csv write complete...\n",
      "XLM_2010.csv write complete...\n",
      "XLM_2011.csv write complete...\n",
      "XLM_2012.csv write complete...\n",
      "XLM_2101.csv write complete...\n",
      "XLM_2102.csv write complete...\n",
      "XLM_2103.csv write complete...\n",
      ">>> All file merge complete...\n",
      "XRP_1805.csv write complete...\n",
      "XRP_1806.csv write complete...\n",
      "XRP_1807.csv write complete...\n",
      "XRP_1808.csv write complete...\n",
      "XRP_1809.csv write complete...\n",
      "XRP_1810.csv write complete...\n",
      "XRP_1811.csv write complete...\n",
      "XRP_1812.csv write complete...\n",
      "XRP_1901.csv write complete...\n",
      "XRP_1902.csv write complete...\n",
      "XRP_1903.csv write complete...\n",
      "XRP_1904.csv write complete...\n",
      "XRP_1905.csv write complete...\n",
      "XRP_1906.csv write complete...\n",
      "XRP_1907.csv write complete...\n",
      "XRP_1908.csv write complete...\n",
      "XRP_1909.csv write complete...\n",
      "XRP_1910.csv write complete...\n",
      "XRP_1911.csv write complete...\n",
      "XRP_1912.csv write complete...\n",
      "XRP_2001.csv write complete...\n",
      "XRP_2002.csv write complete...\n",
      "XRP_2003.csv write complete...\n",
      "XRP_2004.csv write complete...\n",
      "XRP_2005.csv write complete...\n",
      "XRP_2006.csv write complete...\n",
      "XRP_2007.csv write complete...\n",
      "XRP_2008.csv write complete...\n",
      "XRP_2009.csv write complete...\n",
      "XRP_2010.csv write complete...\n",
      "XRP_2011.csv write complete...\n",
      "XRP_2012.csv write complete...\n",
      "XRP_2101.csv write complete...\n",
      "XRP_2102.csv write complete...\n",
      "XRP_2103.csv write complete...\n",
      ">>> All file merge complete...\n"
     ]
    }
   ],
   "source": [
    "for i in range(5):\n",
    "    file_list=glob(path_list[i]+\"*.csv\")\n",
    "    merge_name = merge_name_list[i]\n",
    "\n",
    "    with open(merge_name,'w',encoding=\"cp949\") as f:\n",
    "        for i, file in enumerate(file_list):\n",
    "            if i == 0:\n",
    "                with open(file, 'r') as f2:\n",
    "                    while True :\n",
    "                        line = f2.readline()\n",
    "\n",
    "                        if not line :\n",
    "                            break\n",
    "\n",
    "                        f.write(line)\n",
    "\n",
    "                file_name = file.split('\\\\')[-1]\n",
    "                print(file.split('\\\\')[-1]+' write complete...')\n",
    "\n",
    "            else :\n",
    "                with open(file, 'r') as f2:\n",
    "                    n = 0\n",
    "                    while True :\n",
    "                        line = f2.readline()\n",
    "                        if n!=0:\n",
    "                            f.write(line)\n",
    "\n",
    "                        if not line:\n",
    "                            break\n",
    "                        n += 1\n",
    "\n",
    "                file_name = file.split('\\\\')[-1]\n",
    "                print(file.split('\\\\')[-1]+' write complete...')\n",
    "\n",
    "\n",
    "    print('>>> All file merge complete...')    "
   ]
  },
  {
   "cell_type": "code",
   "execution_count": null,
   "metadata": {},
   "outputs": [],
   "source": []
  }
 ],
 "metadata": {
  "kernelspec": {
   "display_name": "Python 3 (ipykernel)",
   "language": "python",
   "name": "python3"
  },
  "language_info": {
   "codemirror_mode": {
    "name": "ipython",
    "version": 3
   },
   "file_extension": ".py",
   "mimetype": "text/x-python",
   "name": "python",
   "nbconvert_exporter": "python",
   "pygments_lexer": "ipython3",
   "version": "3.9.12"
  }
 },
 "nbformat": 4,
 "nbformat_minor": 4
}
