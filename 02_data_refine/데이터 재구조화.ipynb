{
 "cells": [
  {
   "cell_type": "code",
   "execution_count": 3,
   "metadata": {},
   "outputs": [],
   "source": [
    "import pandas as pd\n",
    "import numpy as np\n",
    "from sklearn.model_selection import train_test_split\n",
    "from numpy.lib.stride_tricks import sliding_window_view\n",
    "from sklearn.preprocessing import MinMaxScaler"
   ]
  },
  {
   "cell_type": "code",
   "execution_count": 4,
   "metadata": {},
   "outputs": [],
   "source": [
    "df=pd.read_csv(\"KRW-XRP_min_1_2018-03-01.csv\")"
   ]
  },
  {
   "cell_type": "code",
   "execution_count": 40,
   "metadata": {},
   "outputs": [],
   "source": [
    "df=pd.read_csv(\"KRW-BTC_min_1_2018-03-01.csv\")"
   ]
  },
  {
   "cell_type": "code",
   "execution_count": 5,
   "metadata": {
    "scrolled": false
   },
   "outputs": [
    {
     "data": {
      "text/html": [
       "<div>\n",
       "<style scoped>\n",
       "    .dataframe tbody tr th:only-of-type {\n",
       "        vertical-align: middle;\n",
       "    }\n",
       "\n",
       "    .dataframe tbody tr th {\n",
       "        vertical-align: top;\n",
       "    }\n",
       "\n",
       "    .dataframe thead th {\n",
       "        text-align: right;\n",
       "    }\n",
       "</style>\n",
       "<table border=\"1\" class=\"dataframe\">\n",
       "  <thead>\n",
       "    <tr style=\"text-align: right;\">\n",
       "      <th></th>\n",
       "      <th>Time</th>\n",
       "      <th>Open</th>\n",
       "      <th>High</th>\n",
       "      <th>Low</th>\n",
       "      <th>Close</th>\n",
       "      <th>Volume</th>\n",
       "      <th>close_ma5</th>\n",
       "      <th>volume_ma5</th>\n",
       "      <th>close_ema5</th>\n",
       "      <th>volume_ema5</th>\n",
       "      <th>...</th>\n",
       "      <th>volume_ema120_ratio</th>\n",
       "      <th>open_lastclose_ratio</th>\n",
       "      <th>high_close_ratio</th>\n",
       "      <th>low_close_ratio</th>\n",
       "      <th>close_lastclose_ratio</th>\n",
       "      <th>volume_lastvolume_ratio</th>\n",
       "      <th>MACD</th>\n",
       "      <th>RSI</th>\n",
       "      <th>OBV</th>\n",
       "      <th>MFI</th>\n",
       "    </tr>\n",
       "  </thead>\n",
       "  <tbody>\n",
       "    <tr>\n",
       "      <th>0</th>\n",
       "      <td>2018-03-01 02:07:00</td>\n",
       "      <td>1025.0</td>\n",
       "      <td>1025.0</td>\n",
       "      <td>1020.0</td>\n",
       "      <td>1020.0</td>\n",
       "      <td>30403.115208</td>\n",
       "      <td>1022.0</td>\n",
       "      <td>9027.902562</td>\n",
       "      <td>1021.045493</td>\n",
       "      <td>13741.553437</td>\n",
       "      <td>...</td>\n",
       "      <td>2.536958</td>\n",
       "      <td>0.004902</td>\n",
       "      <td>0.004902</td>\n",
       "      <td>0.000000</td>\n",
       "      <td>0.000000</td>\n",
       "      <td>1.327596</td>\n",
       "      <td>-0.027162</td>\n",
       "      <td>50.000000</td>\n",
       "      <td>6.794597e+04</td>\n",
       "      <td>1.893647e+09</td>\n",
       "    </tr>\n",
       "    <tr>\n",
       "      <th>1</th>\n",
       "      <td>2018-03-01 02:08:00</td>\n",
       "      <td>1020.0</td>\n",
       "      <td>1020.0</td>\n",
       "      <td>1020.0</td>\n",
       "      <td>1020.0</td>\n",
       "      <td>15791.015794</td>\n",
       "      <td>1021.0</td>\n",
       "      <td>12018.952433</td>\n",
       "      <td>1020.696996</td>\n",
       "      <td>14424.707556</td>\n",
       "      <td>...</td>\n",
       "      <td>0.808195</td>\n",
       "      <td>0.000000</td>\n",
       "      <td>0.000000</td>\n",
       "      <td>0.000000</td>\n",
       "      <td>0.000000</td>\n",
       "      <td>-0.480612</td>\n",
       "      <td>-0.185047</td>\n",
       "      <td>50.000000</td>\n",
       "      <td>6.794597e+04</td>\n",
       "      <td>9.144790e+09</td>\n",
       "    </tr>\n",
       "    <tr>\n",
       "      <th>2</th>\n",
       "      <td>2018-03-01 02:09:00</td>\n",
       "      <td>1020.0</td>\n",
       "      <td>1025.0</td>\n",
       "      <td>1020.0</td>\n",
       "      <td>1025.0</td>\n",
       "      <td>4374.860175</td>\n",
       "      <td>1021.0</td>\n",
       "      <td>12802.556739</td>\n",
       "      <td>1022.131330</td>\n",
       "      <td>11074.758429</td>\n",
       "      <td>...</td>\n",
       "      <td>-0.494244</td>\n",
       "      <td>0.000000</td>\n",
       "      <td>0.000000</td>\n",
       "      <td>-0.004878</td>\n",
       "      <td>0.004902</td>\n",
       "      <td>-0.722953</td>\n",
       "      <td>0.364664</td>\n",
       "      <td>66.666667</td>\n",
       "      <td>7.232083e+04</td>\n",
       "      <td>8.890860e+09</td>\n",
       "    </tr>\n",
       "    <tr>\n",
       "      <th>3</th>\n",
       "      <td>2018-03-01 02:10:00</td>\n",
       "      <td>1025.0</td>\n",
       "      <td>1025.0</td>\n",
       "      <td>1020.0</td>\n",
       "      <td>1025.0</td>\n",
       "      <td>10102.455756</td>\n",
       "      <td>1022.0</td>\n",
       "      <td>14746.694447</td>\n",
       "      <td>1023.087554</td>\n",
       "      <td>10750.657538</td>\n",
       "      <td>...</td>\n",
       "      <td>0.164187</td>\n",
       "      <td>0.000000</td>\n",
       "      <td>0.000000</td>\n",
       "      <td>-0.004878</td>\n",
       "      <td>0.000000</td>\n",
       "      <td>1.309207</td>\n",
       "      <td>0.690107</td>\n",
       "      <td>66.666667</td>\n",
       "      <td>7.232083e+04</td>\n",
       "      <td>8.890860e+09</td>\n",
       "    </tr>\n",
       "    <tr>\n",
       "      <th>4</th>\n",
       "      <td>2018-03-01 02:11:00</td>\n",
       "      <td>1025.0</td>\n",
       "      <td>1025.0</td>\n",
       "      <td>1025.0</td>\n",
       "      <td>1025.0</td>\n",
       "      <td>15094.641216</td>\n",
       "      <td>1023.0</td>\n",
       "      <td>15153.217630</td>\n",
       "      <td>1023.725036</td>\n",
       "      <td>12198.652097</td>\n",
       "      <td>...</td>\n",
       "      <td>0.715469</td>\n",
       "      <td>0.000000</td>\n",
       "      <td>0.000000</td>\n",
       "      <td>0.000000</td>\n",
       "      <td>0.000000</td>\n",
       "      <td>0.494156</td>\n",
       "      <td>0.856350</td>\n",
       "      <td>66.666667</td>\n",
       "      <td>7.232083e+04</td>\n",
       "      <td>8.890860e+09</td>\n",
       "    </tr>\n",
       "    <tr>\n",
       "      <th>...</th>\n",
       "      <td>...</td>\n",
       "      <td>...</td>\n",
       "      <td>...</td>\n",
       "      <td>...</td>\n",
       "      <td>...</td>\n",
       "      <td>...</td>\n",
       "      <td>...</td>\n",
       "      <td>...</td>\n",
       "      <td>...</td>\n",
       "      <td>...</td>\n",
       "      <td>...</td>\n",
       "      <td>...</td>\n",
       "      <td>...</td>\n",
       "      <td>...</td>\n",
       "      <td>...</td>\n",
       "      <td>...</td>\n",
       "      <td>...</td>\n",
       "      <td>...</td>\n",
       "      <td>...</td>\n",
       "      <td>...</td>\n",
       "      <td>...</td>\n",
       "    </tr>\n",
       "    <tr>\n",
       "      <th>1421781</th>\n",
       "      <td>2021-02-28 23:55:00</td>\n",
       "      <td>476.0</td>\n",
       "      <td>477.0</td>\n",
       "      <td>475.0</td>\n",
       "      <td>477.0</td>\n",
       "      <td>192911.922684</td>\n",
       "      <td>476.6</td>\n",
       "      <td>207596.897726</td>\n",
       "      <td>476.668676</td>\n",
       "      <td>262513.068415</td>\n",
       "      <td>...</td>\n",
       "      <td>-0.625006</td>\n",
       "      <td>0.000000</td>\n",
       "      <td>0.000000</td>\n",
       "      <td>-0.004193</td>\n",
       "      <td>0.002101</td>\n",
       "      <td>-0.416059</td>\n",
       "      <td>-0.189340</td>\n",
       "      <td>71.428571</td>\n",
       "      <td>7.514102e+08</td>\n",
       "      <td>1.452451e+11</td>\n",
       "    </tr>\n",
       "    <tr>\n",
       "      <th>1421782</th>\n",
       "      <td>2021-02-28 23:56:00</td>\n",
       "      <td>477.0</td>\n",
       "      <td>478.0</td>\n",
       "      <td>477.0</td>\n",
       "      <td>477.0</td>\n",
       "      <td>394465.742476</td>\n",
       "      <td>476.6</td>\n",
       "      <td>271860.801871</td>\n",
       "      <td>476.779117</td>\n",
       "      <td>306497.293102</td>\n",
       "      <td>...</td>\n",
       "      <td>-0.230245</td>\n",
       "      <td>0.000000</td>\n",
       "      <td>0.002096</td>\n",
       "      <td>0.000000</td>\n",
       "      <td>0.000000</td>\n",
       "      <td>1.044797</td>\n",
       "      <td>-0.176638</td>\n",
       "      <td>66.666667</td>\n",
       "      <td>7.514102e+08</td>\n",
       "      <td>1.452451e+11</td>\n",
       "    </tr>\n",
       "    <tr>\n",
       "      <th>1421783</th>\n",
       "      <td>2021-02-28 23:57:00</td>\n",
       "      <td>477.0</td>\n",
       "      <td>478.0</td>\n",
       "      <td>477.0</td>\n",
       "      <td>477.0</td>\n",
       "      <td>133548.495572</td>\n",
       "      <td>476.6</td>\n",
       "      <td>258829.559628</td>\n",
       "      <td>476.852745</td>\n",
       "      <td>248847.693925</td>\n",
       "      <td>...</td>\n",
       "      <td>-0.736171</td>\n",
       "      <td>0.000000</td>\n",
       "      <td>0.002096</td>\n",
       "      <td>0.000000</td>\n",
       "      <td>0.000000</td>\n",
       "      <td>-0.661445</td>\n",
       "      <td>-0.174138</td>\n",
       "      <td>66.666667</td>\n",
       "      <td>7.514102e+08</td>\n",
       "      <td>1.452451e+11</td>\n",
       "    </tr>\n",
       "    <tr>\n",
       "      <th>1421784</th>\n",
       "      <td>2021-02-28 23:58:00</td>\n",
       "      <td>477.0</td>\n",
       "      <td>478.0</td>\n",
       "      <td>477.0</td>\n",
       "      <td>477.0</td>\n",
       "      <td>121931.153385</td>\n",
       "      <td>476.8</td>\n",
       "      <td>234643.876395</td>\n",
       "      <td>476.901830</td>\n",
       "      <td>206542.180412</td>\n",
       "      <td>...</td>\n",
       "      <td>-0.756061</td>\n",
       "      <td>0.000000</td>\n",
       "      <td>0.002096</td>\n",
       "      <td>0.000000</td>\n",
       "      <td>0.000000</td>\n",
       "      <td>-0.086990</td>\n",
       "      <td>-0.177765</td>\n",
       "      <td>60.000000</td>\n",
       "      <td>7.514102e+08</td>\n",
       "      <td>1.452451e+11</td>\n",
       "    </tr>\n",
       "    <tr>\n",
       "      <th>1421785</th>\n",
       "      <td>2021-02-28 23:59:00</td>\n",
       "      <td>478.0</td>\n",
       "      <td>480.0</td>\n",
       "      <td>478.0</td>\n",
       "      <td>480.0</td>\n",
       "      <td>743574.101981</td>\n",
       "      <td>477.6</td>\n",
       "      <td>317286.283219</td>\n",
       "      <td>477.934553</td>\n",
       "      <td>385552.820935</td>\n",
       "      <td>...</td>\n",
       "      <td>0.475724</td>\n",
       "      <td>0.002096</td>\n",
       "      <td>0.000000</td>\n",
       "      <td>-0.004167</td>\n",
       "      <td>0.006289</td>\n",
       "      <td>5.098311</td>\n",
       "      <td>0.198268</td>\n",
       "      <td>75.000000</td>\n",
       "      <td>7.521538e+08</td>\n",
       "      <td>1.452451e+11</td>\n",
       "    </tr>\n",
       "  </tbody>\n",
       "</table>\n",
       "<p>1421786 rows × 55 columns</p>\n",
       "</div>"
      ],
      "text/plain": [
       "                        Time    Open    High     Low   Close         Volume  \\\n",
       "0        2018-03-01 02:07:00  1025.0  1025.0  1020.0  1020.0   30403.115208   \n",
       "1        2018-03-01 02:08:00  1020.0  1020.0  1020.0  1020.0   15791.015794   \n",
       "2        2018-03-01 02:09:00  1020.0  1025.0  1020.0  1025.0    4374.860175   \n",
       "3        2018-03-01 02:10:00  1025.0  1025.0  1020.0  1025.0   10102.455756   \n",
       "4        2018-03-01 02:11:00  1025.0  1025.0  1025.0  1025.0   15094.641216   \n",
       "...                      ...     ...     ...     ...     ...            ...   \n",
       "1421781  2021-02-28 23:55:00   476.0   477.0   475.0   477.0  192911.922684   \n",
       "1421782  2021-02-28 23:56:00   477.0   478.0   477.0   477.0  394465.742476   \n",
       "1421783  2021-02-28 23:57:00   477.0   478.0   477.0   477.0  133548.495572   \n",
       "1421784  2021-02-28 23:58:00   477.0   478.0   477.0   477.0  121931.153385   \n",
       "1421785  2021-02-28 23:59:00   478.0   480.0   478.0   480.0  743574.101981   \n",
       "\n",
       "         close_ma5     volume_ma5   close_ema5    volume_ema5  ...  \\\n",
       "0           1022.0    9027.902562  1021.045493   13741.553437  ...   \n",
       "1           1021.0   12018.952433  1020.696996   14424.707556  ...   \n",
       "2           1021.0   12802.556739  1022.131330   11074.758429  ...   \n",
       "3           1022.0   14746.694447  1023.087554   10750.657538  ...   \n",
       "4           1023.0   15153.217630  1023.725036   12198.652097  ...   \n",
       "...            ...            ...          ...            ...  ...   \n",
       "1421781      476.6  207596.897726   476.668676  262513.068415  ...   \n",
       "1421782      476.6  271860.801871   476.779117  306497.293102  ...   \n",
       "1421783      476.6  258829.559628   476.852745  248847.693925  ...   \n",
       "1421784      476.8  234643.876395   476.901830  206542.180412  ...   \n",
       "1421785      477.6  317286.283219   477.934553  385552.820935  ...   \n",
       "\n",
       "         volume_ema120_ratio  open_lastclose_ratio  high_close_ratio  \\\n",
       "0                   2.536958              0.004902          0.004902   \n",
       "1                   0.808195              0.000000          0.000000   \n",
       "2                  -0.494244              0.000000          0.000000   \n",
       "3                   0.164187              0.000000          0.000000   \n",
       "4                   0.715469              0.000000          0.000000   \n",
       "...                      ...                   ...               ...   \n",
       "1421781            -0.625006              0.000000          0.000000   \n",
       "1421782            -0.230245              0.000000          0.002096   \n",
       "1421783            -0.736171              0.000000          0.002096   \n",
       "1421784            -0.756061              0.000000          0.002096   \n",
       "1421785             0.475724              0.002096          0.000000   \n",
       "\n",
       "         low_close_ratio  close_lastclose_ratio  volume_lastvolume_ratio  \\\n",
       "0               0.000000               0.000000                 1.327596   \n",
       "1               0.000000               0.000000                -0.480612   \n",
       "2              -0.004878               0.004902                -0.722953   \n",
       "3              -0.004878               0.000000                 1.309207   \n",
       "4               0.000000               0.000000                 0.494156   \n",
       "...                  ...                    ...                      ...   \n",
       "1421781        -0.004193               0.002101                -0.416059   \n",
       "1421782         0.000000               0.000000                 1.044797   \n",
       "1421783         0.000000               0.000000                -0.661445   \n",
       "1421784         0.000000               0.000000                -0.086990   \n",
       "1421785        -0.004167               0.006289                 5.098311   \n",
       "\n",
       "             MACD        RSI           OBV           MFI  \n",
       "0       -0.027162  50.000000  6.794597e+04  1.893647e+09  \n",
       "1       -0.185047  50.000000  6.794597e+04  9.144790e+09  \n",
       "2        0.364664  66.666667  7.232083e+04  8.890860e+09  \n",
       "3        0.690107  66.666667  7.232083e+04  8.890860e+09  \n",
       "4        0.856350  66.666667  7.232083e+04  8.890860e+09  \n",
       "...           ...        ...           ...           ...  \n",
       "1421781 -0.189340  71.428571  7.514102e+08  1.452451e+11  \n",
       "1421782 -0.176638  66.666667  7.514102e+08  1.452451e+11  \n",
       "1421783 -0.174138  66.666667  7.514102e+08  1.452451e+11  \n",
       "1421784 -0.177765  60.000000  7.514102e+08  1.452451e+11  \n",
       "1421785  0.198268  75.000000  7.521538e+08  1.452451e+11  \n",
       "\n",
       "[1421786 rows x 55 columns]"
      ]
     },
     "execution_count": 5,
     "metadata": {},
     "output_type": "execute_result"
    }
   ],
   "source": [
    "df"
   ]
  },
  {
   "cell_type": "code",
   "execution_count": 6,
   "metadata": {},
   "outputs": [],
   "source": [
    "df=df.drop(['Time'],axis=1)"
   ]
  },
  {
   "cell_type": "code",
   "execution_count": 7,
   "metadata": {
    "scrolled": false
   },
   "outputs": [
    {
     "data": {
      "text/plain": [
       "Index(['Open', 'High', 'Low', 'Close', 'Volume', 'close_ma5', 'volume_ma5',\n",
       "       'close_ema5', 'volume_ema5', 'close_ma5_ratio', 'volume_ma5_ratio',\n",
       "       'close_ema5_ratio', 'volume_ema5_ratio', 'close_ma10', 'volume_ma10',\n",
       "       'close_ema10', 'volume_ema10', 'close_ma10_ratio', 'volume_ma10_ratio',\n",
       "       'close_ema10_ratio', 'volume_ema10_ratio', 'close_ma20', 'volume_ma20',\n",
       "       'close_ema20', 'volume_ema20', 'close_ma20_ratio', 'volume_ma20_ratio',\n",
       "       'close_ema20_ratio', 'volume_ema20_ratio', 'close_ma60', 'volume_ma60',\n",
       "       'close_ema60', 'volume_ema60', 'close_ma60_ratio', 'volume_ma60_ratio',\n",
       "       'close_ema60_ratio', 'volume_ema60_ratio', 'close_ma120',\n",
       "       'volume_ma120', 'close_ema120', 'volume_ema120', 'close_ma120_ratio',\n",
       "       'volume_ma120_ratio', 'close_ema120_ratio', 'volume_ema120_ratio',\n",
       "       'open_lastclose_ratio', 'high_close_ratio', 'low_close_ratio',\n",
       "       'close_lastclose_ratio', 'volume_lastvolume_ratio', 'MACD', 'RSI',\n",
       "       'OBV', 'MFI'],\n",
       "      dtype='object')"
      ]
     },
     "execution_count": 7,
     "metadata": {},
     "output_type": "execute_result"
    }
   ],
   "source": [
    "df.columns"
   ]
  },
  {
   "cell_type": "code",
   "execution_count": 6,
   "metadata": {},
   "outputs": [],
   "source": []
  },
  {
   "cell_type": "code",
   "execution_count": 44,
   "metadata": {},
   "outputs": [],
   "source": [
    "Time_window=5"
   ]
  },
  {
   "cell_type": "code",
   "execution_count": 27,
   "metadata": {
    "scrolled": true
   },
   "outputs": [
    {
     "data": {
      "text/plain": [
       "(1090462, 29)"
      ]
     },
     "execution_count": 27,
     "metadata": {},
     "output_type": "execute_result"
    }
   ],
   "source": [
    "x_train.shape"
   ]
  },
  {
   "cell_type": "code",
   "execution_count": 15,
   "metadata": {
    "scrolled": true
   },
   "outputs": [
    {
     "name": "stderr",
     "output_type": "stream",
     "text": [
      "C:\\Users\\User\\anaconda3\\lib\\site-packages\\numpy\\lib\\stride_tricks.py:307: VisibleDeprecationWarning: Creating an ndarray from ragged nested sequences (which is a list-or-tuple of lists-or-tuples-or ndarrays with different lengths or shapes) is deprecated. If you meant to do this, you must specify 'dtype=object' when creating the ndarray.\n",
      "  window_shape_array = np.array(window_shape)\n"
     ]
    },
    {
     "ename": "ValueError",
     "evalue": "The truth value of an array with more than one element is ambiguous. Use a.any() or a.all()",
     "output_type": "error",
     "traceback": [
      "\u001b[1;31m---------------------------------------------------------------------------\u001b[0m",
      "\u001b[1;31mValueError\u001b[0m                                Traceback (most recent call last)",
      "\u001b[1;32m<ipython-input-15-70f981b1dbc3>\u001b[0m in \u001b[0;36m<module>\u001b[1;34m\u001b[0m\n\u001b[0;32m      6\u001b[0m \u001b[1;33m\u001b[0m\u001b[0m\n\u001b[0;32m      7\u001b[0m \u001b[0mreshape_num\u001b[0m \u001b[1;33m=\u001b[0m \u001b[0mx_train\u001b[0m\u001b[1;33m.\u001b[0m\u001b[0mshape\u001b[0m\u001b[1;33m[\u001b[0m\u001b[1;36m0\u001b[0m\u001b[1;33m]\u001b[0m \u001b[1;33m-\u001b[0m \u001b[0mTime_window\u001b[0m \u001b[1;33m+\u001b[0m \u001b[1;36m1\u001b[0m\u001b[1;33m\u001b[0m\u001b[1;33m\u001b[0m\u001b[0m\n\u001b[1;32m----> 8\u001b[1;33m \u001b[0mdata\u001b[0m \u001b[1;33m=\u001b[0m \u001b[0msliding_window_view\u001b[0m\u001b[1;33m(\u001b[0m\u001b[0mx_train\u001b[0m\u001b[1;33m,\u001b[0m \u001b[1;33m(\u001b[0m\u001b[0mTime_window\u001b[0m\u001b[1;33m,\u001b[0m \u001b[0mx_train\u001b[0m\u001b[1;33m[\u001b[0m\u001b[1;36m1\u001b[0m\u001b[1;33m]\u001b[0m\u001b[1;33m)\u001b[0m\u001b[1;33m)\u001b[0m\u001b[1;33m\u001b[0m\u001b[1;33m\u001b[0m\u001b[0m\n\u001b[0m\u001b[0;32m      9\u001b[0m \u001b[0mdata\u001b[0m \u001b[1;33m=\u001b[0m \u001b[0mdata\u001b[0m\u001b[1;33m.\u001b[0m\u001b[0mreshape\u001b[0m\u001b[1;33m(\u001b[0m\u001b[0mreshape_num\u001b[0m\u001b[1;33m,\u001b[0m \u001b[0mTime_window\u001b[0m\u001b[1;33m,\u001b[0m \u001b[0mx_train\u001b[0m\u001b[1;33m.\u001b[0m\u001b[0mshape\u001b[0m\u001b[1;33m[\u001b[0m\u001b[1;36m1\u001b[0m\u001b[1;33m]\u001b[0m\u001b[1;33m)\u001b[0m\u001b[1;33m\u001b[0m\u001b[1;33m\u001b[0m\u001b[0m\n\u001b[0;32m     10\u001b[0m \u001b[1;33m\u001b[0m\u001b[0m\n",
      "\u001b[1;32m<__array_function__ internals>\u001b[0m in \u001b[0;36msliding_window_view\u001b[1;34m(*args, **kwargs)\u001b[0m\n",
      "\u001b[1;32m~\\anaconda3\\lib\\site-packages\\numpy\\lib\\stride_tricks.py\u001b[0m in \u001b[0;36msliding_window_view\u001b[1;34m(x, window_shape, axis, subok, writeable)\u001b[0m\n\u001b[0;32m    306\u001b[0m \u001b[1;33m\u001b[0m\u001b[0m\n\u001b[0;32m    307\u001b[0m     \u001b[0mwindow_shape_array\u001b[0m \u001b[1;33m=\u001b[0m \u001b[0mnp\u001b[0m\u001b[1;33m.\u001b[0m\u001b[0marray\u001b[0m\u001b[1;33m(\u001b[0m\u001b[0mwindow_shape\u001b[0m\u001b[1;33m)\u001b[0m\u001b[1;33m\u001b[0m\u001b[1;33m\u001b[0m\u001b[0m\n\u001b[1;32m--> 308\u001b[1;33m     \u001b[1;32mif\u001b[0m \u001b[0mnp\u001b[0m\u001b[1;33m.\u001b[0m\u001b[0many\u001b[0m\u001b[1;33m(\u001b[0m\u001b[0mwindow_shape_array\u001b[0m \u001b[1;33m<\u001b[0m \u001b[1;36m0\u001b[0m\u001b[1;33m)\u001b[0m\u001b[1;33m:\u001b[0m\u001b[1;33m\u001b[0m\u001b[1;33m\u001b[0m\u001b[0m\n\u001b[0m\u001b[0;32m    309\u001b[0m         \u001b[1;32mraise\u001b[0m \u001b[0mValueError\u001b[0m\u001b[1;33m(\u001b[0m\u001b[1;34m'`window_shape` cannot contain negative values'\u001b[0m\u001b[1;33m)\u001b[0m\u001b[1;33m\u001b[0m\u001b[1;33m\u001b[0m\u001b[0m\n\u001b[0;32m    310\u001b[0m \u001b[1;33m\u001b[0m\u001b[0m\n",
      "\u001b[1;31mValueError\u001b[0m: The truth value of an array with more than one element is ambiguous. Use a.any() or a.all()"
     ]
    }
   ],
   "source": [
    "x_train, x_test = train_test_split(df, test_size=0.3, shuffle=False)\n",
    "x_validation, x_test = train_test_split(x_test, test_size=0.5, shuffle=False)\n",
    "scaler = MinMaxScaler()\n",
    "x_train = scaler.fit_transform(x_train)\n",
    "x_validation = scaler.fit_transform(x_validation)\n",
    "x_test = scaler.fit_transform(x_test)\n"
   ]
  },
  {
   "cell_type": "code",
   "execution_count": 30,
   "metadata": {},
   "outputs": [],
   "source": [
    "reshape_num = x_train.shape[0] - Time_window + 1\n",
    "data = sliding_window_view(x_train, (Time_window, x_train.shape[1]))\n",
    "data = data.reshape(reshape_num, Time_window, x_train.shape[1])"
   ]
  },
  {
   "cell_type": "code",
   "execution_count": 28,
   "metadata": {},
   "outputs": [
    {
     "data": {
      "text/plain": [
       "1090462"
      ]
     },
     "execution_count": 28,
     "metadata": {},
     "output_type": "execute_result"
    }
   ],
   "source": [
    "x_train.shape[0]"
   ]
  },
  {
   "cell_type": "code",
   "execution_count": 93,
   "metadata": {},
   "outputs": [
    {
     "data": {
      "text/plain": [
       "29"
      ]
     },
     "execution_count": 93,
     "metadata": {},
     "output_type": "execute_result"
    }
   ],
   "source": [
    "df.shape[1]"
   ]
  },
  {
   "cell_type": "code",
   "execution_count": 45,
   "metadata": {},
   "outputs": [],
   "source": [
    "df_array=np.array(df)"
   ]
  },
  {
   "cell_type": "code",
   "execution_count": 46,
   "metadata": {
    "scrolled": true
   },
   "outputs": [
    {
     "data": {
      "text/plain": [
       "(1557803, 29)"
      ]
     },
     "execution_count": 46,
     "metadata": {},
     "output_type": "execute_result"
    }
   ],
   "source": [
    "df_array.shape"
   ]
  },
  {
   "cell_type": "code",
   "execution_count": 47,
   "metadata": {},
   "outputs": [
    {
     "data": {
      "text/plain": [
       "array([[ 1.18680000e+07,  1.18820000e+07,  1.18670000e+07, ...,\n",
       "         5.19083969e+01, -3.56070947e+01,  5.64579216e+01],\n",
       "       [ 1.18680000e+07,  1.18680000e+07,  1.18600000e+07, ...,\n",
       "         5.00000000e+01, -3.90989475e+01,  5.67044281e+01],\n",
       "       [ 1.18600000e+07,  1.18660000e+07,  1.18550000e+07, ...,\n",
       "         3.94957983e+01, -4.95094147e+01,  4.61711264e+01],\n",
       "       ...,\n",
       "       [ 5.12680000e+07,  5.13220000e+07,  5.12680000e+07, ...,\n",
       "         5.37223340e+01, -8.33615122e+04,  6.22693267e+01],\n",
       "       [ 5.12730000e+07,  5.13020000e+07,  5.12730000e+07, ...,\n",
       "         5.74055158e+01, -8.33580797e+04,  6.69180752e+01],\n",
       "       [ 5.13160000e+07,  5.14990000e+07,  5.13030000e+07, ...,\n",
       "         6.61403509e+01, -8.33413631e+04,  7.09861641e+01]])"
      ]
     },
     "execution_count": 47,
     "metadata": {},
     "output_type": "execute_result"
    }
   ],
   "source": [
    "df_array"
   ]
  },
  {
   "cell_type": "code",
   "execution_count": 48,
   "metadata": {},
   "outputs": [],
   "source": [
    "Time_window=5 \n",
    "reshape_num = df.shape[0]-Time_window+1\n"
   ]
  },
  {
   "cell_type": "code",
   "execution_count": 50,
   "metadata": {},
   "outputs": [
    {
     "data": {
      "text/plain": [
       "1557799"
      ]
     },
     "execution_count": 50,
     "metadata": {},
     "output_type": "execute_result"
    }
   ],
   "source": [
    "reshape_num"
   ]
  },
  {
   "cell_type": "code",
   "execution_count": 54,
   "metadata": {},
   "outputs": [
    {
     "data": {
      "text/plain": [
       "(1557799, 1, 5, 29)"
      ]
     },
     "execution_count": 54,
     "metadata": {},
     "output_type": "execute_result"
    }
   ],
   "source": [
    "tmp=sliding_window_view(df_array,(Time_window,df.shape[1]))\n",
    "tmp.shape"
   ]
  },
  {
   "cell_type": "code",
   "execution_count": null,
   "metadata": {},
   "outputs": [],
   "source": [
    "tmp=tmp.reshape(reshape_num,Time_window,df.shape[1])\n",
    "tmp"
   ]
  },
  {
   "cell_type": "code",
   "execution_count": 52,
   "metadata": {},
   "outputs": [
    {
     "data": {
      "text/plain": [
       "(1557799, 5, 29)"
      ]
     },
     "execution_count": 52,
     "metadata": {},
     "output_type": "execute_result"
    }
   ],
   "source": [
    "tmp.shape"
   ]
  },
  {
   "cell_type": "code",
   "execution_count": 81,
   "metadata": {},
   "outputs": [
    {
     "data": {
      "text/plain": [
       "array([[  0,   1,   2,   3,   4,   5,   6,   7,   8,   9,  10,  11,  12,\n",
       "         13,  14,  15,  16,  17,  18,  19,  20,  21,  22,  23,  24,  25,\n",
       "         26,  27,  28],\n",
       "       [ 29,  30,  31,  32,  33,  34,  35,  36,  37,  38,  39,  40,  41,\n",
       "         42,  43,  44,  45,  46,  47,  48,  49,  50,  51,  52,  53,  54,\n",
       "         55,  56,  57],\n",
       "       [ 58,  59,  60,  61,  62,  63,  64,  65,  66,  67,  68,  69,  70,\n",
       "         71,  72,  73,  74,  75,  76,  77,  78,  79,  80,  81,  82,  83,\n",
       "         84,  85,  86],\n",
       "       [ 87,  88,  89,  90,  91,  92,  93,  94,  95,  96,  97,  98,  99,\n",
       "        100, 101, 102, 103, 104, 105, 106, 107, 108, 109, 110, 111, 112,\n",
       "        113, 114, 115],\n",
       "       [116, 117, 118, 119, 120, 121, 122, 123, 124, 125, 126, 127, 128,\n",
       "        129, 130, 131, 132, 133, 134, 135, 136, 137, 138, 139, 140, 141,\n",
       "        142, 143, 144],\n",
       "       [145, 146, 147, 148, 149, 150, 151, 152, 153, 154, 155, 156, 157,\n",
       "        158, 159, 160, 161, 162, 163, 164, 165, 166, 167, 168, 169, 170,\n",
       "        171, 172, 173],\n",
       "       [174, 175, 176, 177, 178, 179, 180, 181, 182, 183, 184, 185, 186,\n",
       "        187, 188, 189, 190, 191, 192, 193, 194, 195, 196, 197, 198, 199,\n",
       "        200, 201, 202],\n",
       "       [203, 204, 205, 206, 207, 208, 209, 210, 211, 212, 213, 214, 215,\n",
       "        216, 217, 218, 219, 220, 221, 222, 223, 224, 225, 226, 227, 228,\n",
       "        229, 230, 231],\n",
       "       [232, 233, 234, 235, 236, 237, 238, 239, 240, 241, 242, 243, 244,\n",
       "        245, 246, 247, 248, 249, 250, 251, 252, 253, 254, 255, 256, 257,\n",
       "        258, 259, 260],\n",
       "       [261, 262, 263, 264, 265, 266, 267, 268, 269, 270, 271, 272, 273,\n",
       "        274, 275, 276, 277, 278, 279, 280, 281, 282, 283, 284, 285, 286,\n",
       "        287, 288, 289],\n",
       "       [290, 291, 292, 293, 294, 295, 296, 297, 298, 299, 300, 301, 302,\n",
       "        303, 304, 305, 306, 307, 308, 309, 310, 311, 312, 313, 314, 315,\n",
       "        316, 317, 318],\n",
       "       [319, 320, 321, 322, 323, 324, 325, 326, 327, 328, 329, 330, 331,\n",
       "        332, 333, 334, 335, 336, 337, 338, 339, 340, 341, 342, 343, 344,\n",
       "        345, 346, 347],\n",
       "       [348, 349, 350, 351, 352, 353, 354, 355, 356, 357, 358, 359, 360,\n",
       "        361, 362, 363, 364, 365, 366, 367, 368, 369, 370, 371, 372, 373,\n",
       "        374, 375, 376],\n",
       "       [377, 378, 379, 380, 381, 382, 383, 384, 385, 386, 387, 388, 389,\n",
       "        390, 391, 392, 393, 394, 395, 396, 397, 398, 399, 400, 401, 402,\n",
       "        403, 404, 405],\n",
       "       [406, 407, 408, 409, 410, 411, 412, 413, 414, 415, 416, 417, 418,\n",
       "        419, 420, 421, 422, 423, 424, 425, 426, 427, 428, 429, 430, 431,\n",
       "        432, 433, 434]])"
      ]
     },
     "execution_count": 81,
     "metadata": {},
     "output_type": "execute_result"
    }
   ],
   "source": [
    "x = np.arange(29*15)\n",
    "x=x.reshape(15,29)\n",
    "x"
   ]
  },
  {
   "cell_type": "code",
   "execution_count": 82,
   "metadata": {},
   "outputs": [],
   "source": [
    "v = sliding_window_view(x,(3,29))\n",
    "v=v.reshape(13,3,29)"
   ]
  },
  {
   "cell_type": "code",
   "execution_count": 83,
   "metadata": {},
   "outputs": [
    {
     "data": {
      "text/plain": [
       "array([[ 0,  1,  2,  3,  4,  5,  6,  7,  8,  9, 10, 11, 12, 13, 14, 15,\n",
       "        16, 17, 18, 19, 20, 21, 22, 23, 24, 25, 26, 27, 28],\n",
       "       [29, 30, 31, 32, 33, 34, 35, 36, 37, 38, 39, 40, 41, 42, 43, 44,\n",
       "        45, 46, 47, 48, 49, 50, 51, 52, 53, 54, 55, 56, 57],\n",
       "       [58, 59, 60, 61, 62, 63, 64, 65, 66, 67, 68, 69, 70, 71, 72, 73,\n",
       "        74, 75, 76, 77, 78, 79, 80, 81, 82, 83, 84, 85, 86]])"
      ]
     },
     "execution_count": 83,
     "metadata": {},
     "output_type": "execute_result"
    }
   ],
   "source": [
    "v[0]"
   ]
  },
  {
   "cell_type": "code",
   "execution_count": 88,
   "metadata": {},
   "outputs": [
    {
     "data": {
      "text/plain": [
       "array([[ 29,  30,  31,  32,  33,  34,  35,  36,  37,  38,  39,  40,  41,\n",
       "         42,  43,  44,  45,  46,  47,  48,  49,  50,  51,  52,  53,  54,\n",
       "         55,  56,  57],\n",
       "       [ 58,  59,  60,  61,  62,  63,  64,  65,  66,  67,  68,  69,  70,\n",
       "         71,  72,  73,  74,  75,  76,  77,  78,  79,  80,  81,  82,  83,\n",
       "         84,  85,  86],\n",
       "       [ 87,  88,  89,  90,  91,  92,  93,  94,  95,  96,  97,  98,  99,\n",
       "        100, 101, 102, 103, 104, 105, 106, 107, 108, 109, 110, 111, 112,\n",
       "        113, 114, 115]])"
      ]
     },
     "execution_count": 88,
     "metadata": {},
     "output_type": "execute_result"
    }
   ],
   "source": [
    "v[1]"
   ]
  },
  {
   "cell_type": "code",
   "execution_count": null,
   "metadata": {},
   "outputs": [],
   "source": [
    "n_inputs = 40*29\n",
    "n_hidden1 = 300\n",
    "n_hidden2 = 150\n",
    "n_hidden3 = n_hidden1\n",
    "n_outputs = n_inputs"
   ]
  },
  {
   "cell_type": "code",
   "execution_count": 108,
   "metadata": {},
   "outputs": [],
   "source": [
    "x_train, x_test = train_test_split(tmp, test_size=0.3, shuffle=False, random_state=34)"
   ]
  },
  {
   "cell_type": "code",
   "execution_count": 109,
   "metadata": {},
   "outputs": [],
   "source": [
    "x_validation , x_test = train_test_split(x_test, test_size=0.5, shuffle=False, random_state=34)"
   ]
  },
  {
   "cell_type": "code",
   "execution_count": 110,
   "metadata": {},
   "outputs": [
    {
     "data": {
      "text/plain": [
       "(1090459, 5, 29)"
      ]
     },
     "execution_count": 110,
     "metadata": {},
     "output_type": "execute_result"
    }
   ],
   "source": [
    "x_train.shape"
   ]
  },
  {
   "cell_type": "code",
   "execution_count": 111,
   "metadata": {},
   "outputs": [
    {
     "data": {
      "text/plain": [
       "(233670, 5, 29)"
      ]
     },
     "execution_count": 111,
     "metadata": {},
     "output_type": "execute_result"
    }
   ],
   "source": [
    "x_test.shape"
   ]
  },
  {
   "cell_type": "code",
   "execution_count": 112,
   "metadata": {},
   "outputs": [
    {
     "data": {
      "text/plain": [
       "(233670, 5, 29)"
      ]
     },
     "execution_count": 112,
     "metadata": {},
     "output_type": "execute_result"
    }
   ],
   "source": [
    "x_validation.shape"
   ]
  },
  {
   "cell_type": "code",
   "execution_count": 61,
   "metadata": {},
   "outputs": [
    {
     "name": "stdout",
     "output_type": "stream",
     "text": [
      "(1090462, 29)\n",
      "(1090458, 1, 5, 29)\n",
      "(1090458, 5, 29)\n",
      "(233671, 29)\n",
      "(233667, 1, 5, 29)\n",
      "(233667, 5, 29)\n",
      "(233670, 29)\n",
      "(233666, 1, 5, 29)\n",
      "(233666, 5, 29)\n"
     ]
    }
   ],
   "source": [
    "import pandas as pd\n",
    "import numpy as np\n",
    "\n",
    "from sklearn.metrics import accuracy_score, precision_score, recall_score\n",
    "import matplotlib.pyplot as plt\n",
    "from sklearn.model_selection import train_test_split\n",
    "from numpy.lib.stride_tricks import sliding_window_view\n",
    "from sklearn.preprocessing import MinMaxScaler\n",
    "\n",
    "def data_scaling(data):\n",
    "    scaler = MinMaxScaler()\n",
    "    data = scaler.fit_transform(data)\n",
    "\n",
    "    return data\n",
    "\n",
    "\n",
    "def data_sliding(data,Time_window):\n",
    "    print(data.shape)\n",
    "    reshape_num = data.shape[0] - Time_window + 1\n",
    "    data = sliding_window_view(data, (Time_window, data.shape[1]))\n",
    "    print(data.shape)\n",
    "    data = data.reshape(reshape_num, Time_window, data.shape[3])\n",
    "    print(data.shape)\n",
    "\n",
    "    return data\n",
    "\n",
    "def data_load_processing(FILENAME,Time_window=None):\n",
    "    df = pd.read_csv(FILENAME)\n",
    "    df = df.drop(['Time'], axis=1)\n",
    "\n",
    "    x_train, x_test = train_test_split(df, test_size=0.3, shuffle=False)\n",
    "    x_validation, x_test = train_test_split(x_test, test_size=0.5, shuffle=False)\n",
    "\n",
    "    x_train = data_scaling(x_train)\n",
    "    x_test = data_scaling(x_test)\n",
    "    x_validation = data_scaling(x_validation)\n",
    "\n",
    "    x_train = data_sliding(x_train, Time_window)\n",
    "    x_test  = data_sliding(x_test, Time_window)\n",
    "    x_validation = data_sliding(x_validation, Time_window)\n",
    "\n",
    "\n",
    "    return x_train, x_test, x_validation\n",
    "\n",
    "\n",
    "# Press the green button in the gutter to run the script.\n",
    "if __name__ == '__main__':\n",
    "    FILENAME = \"KRW-BTC_min_1_2018-03-01.csv\"\n",
    "    Time_window = 5\n",
    "    x_train, x_test, x_validation = data_load_processing(FILENAME, Time_window=Time_window)\n",
    "    "
   ]
  },
  {
   "cell_type": "code",
   "execution_count": 1,
   "metadata": {},
   "outputs": [
    {
     "ename": "ModuleNotFoundError",
     "evalue": "No module named 'absl'",
     "output_type": "error",
     "traceback": [
      "\u001b[1;31m---------------------------------------------------------------------------\u001b[0m",
      "\u001b[1;31mModuleNotFoundError\u001b[0m                       Traceback (most recent call last)",
      "\u001b[1;32m<ipython-input-1-03c01f74c7f6>\u001b[0m in \u001b[0;36m<module>\u001b[1;34m\u001b[0m\n\u001b[0;32m      4\u001b[0m \u001b[1;33m\u001b[0m\u001b[0m\n\u001b[0;32m      5\u001b[0m \u001b[0mos\u001b[0m\u001b[1;33m.\u001b[0m\u001b[0menviron\u001b[0m\u001b[1;33m[\u001b[0m\u001b[1;34m'TF_CPP_MIN_LOG_LEVEL'\u001b[0m\u001b[1;33m]\u001b[0m \u001b[1;33m=\u001b[0m \u001b[1;34m'2'\u001b[0m\u001b[1;33m\u001b[0m\u001b[1;33m\u001b[0m\u001b[0m\n\u001b[1;32m----> 6\u001b[1;33m \u001b[1;32mimport\u001b[0m \u001b[0mtensorflow\u001b[0m \u001b[1;32mas\u001b[0m \u001b[0mtf\u001b[0m\u001b[1;33m\u001b[0m\u001b[1;33m\u001b[0m\u001b[0m\n\u001b[0m\u001b[0;32m      7\u001b[0m \u001b[1;32mfrom\u001b[0m \u001b[0msklearn\u001b[0m\u001b[1;33m.\u001b[0m\u001b[0mmetrics\u001b[0m \u001b[1;32mimport\u001b[0m \u001b[0maccuracy_score\u001b[0m\u001b[1;33m,\u001b[0m \u001b[0mprecision_score\u001b[0m\u001b[1;33m,\u001b[0m \u001b[0mrecall_score\u001b[0m\u001b[1;33m\u001b[0m\u001b[1;33m\u001b[0m\u001b[0m\n\u001b[0;32m      8\u001b[0m \u001b[1;32mfrom\u001b[0m \u001b[0mtensorflow\u001b[0m\u001b[1;33m.\u001b[0m\u001b[0mkeras\u001b[0m \u001b[1;32mimport\u001b[0m \u001b[0mlayers\u001b[0m\u001b[1;33m,\u001b[0m \u001b[0mlosses\u001b[0m\u001b[1;33m,\u001b[0m \u001b[0mmodels\u001b[0m\u001b[1;33m,\u001b[0m \u001b[0moptimizers\u001b[0m\u001b[1;33m\u001b[0m\u001b[1;33m\u001b[0m\u001b[0m\n",
      "\u001b[1;32m~\\AppData\\Roaming\\Python\\Python38\\site-packages\\tensorflow\\__init__.py\u001b[0m in \u001b[0;36m<module>\u001b[1;34m\u001b[0m\n\u001b[0;32m     39\u001b[0m \u001b[1;32mimport\u001b[0m \u001b[0msys\u001b[0m \u001b[1;32mas\u001b[0m \u001b[0m_sys\u001b[0m\u001b[1;33m\u001b[0m\u001b[1;33m\u001b[0m\u001b[0m\n\u001b[0;32m     40\u001b[0m \u001b[1;33m\u001b[0m\u001b[0m\n\u001b[1;32m---> 41\u001b[1;33m \u001b[1;32mfrom\u001b[0m \u001b[0mtensorflow\u001b[0m\u001b[1;33m.\u001b[0m\u001b[0mpython\u001b[0m\u001b[1;33m.\u001b[0m\u001b[0mtools\u001b[0m \u001b[1;32mimport\u001b[0m \u001b[0mmodule_util\u001b[0m \u001b[1;32mas\u001b[0m \u001b[0m_module_util\u001b[0m\u001b[1;33m\u001b[0m\u001b[1;33m\u001b[0m\u001b[0m\n\u001b[0m\u001b[0;32m     42\u001b[0m \u001b[1;32mfrom\u001b[0m \u001b[0mtensorflow\u001b[0m\u001b[1;33m.\u001b[0m\u001b[0mpython\u001b[0m\u001b[1;33m.\u001b[0m\u001b[0mutil\u001b[0m\u001b[1;33m.\u001b[0m\u001b[0mlazy_loader\u001b[0m \u001b[1;32mimport\u001b[0m \u001b[0mLazyLoader\u001b[0m \u001b[1;32mas\u001b[0m \u001b[0m_LazyLoader\u001b[0m\u001b[1;33m\u001b[0m\u001b[1;33m\u001b[0m\u001b[0m\n\u001b[0;32m     43\u001b[0m \u001b[1;33m\u001b[0m\u001b[0m\n",
      "\u001b[1;32m~\\AppData\\Roaming\\Python\\Python38\\site-packages\\tensorflow\\python\\__init__.py\u001b[0m in \u001b[0;36m<module>\u001b[1;34m\u001b[0m\n\u001b[0;32m     39\u001b[0m \u001b[1;32mfrom\u001b[0m \u001b[0mtensorflow\u001b[0m\u001b[1;33m.\u001b[0m\u001b[0mpython\u001b[0m \u001b[1;32mimport\u001b[0m \u001b[0mpywrap_tensorflow\u001b[0m \u001b[1;32mas\u001b[0m \u001b[0m_pywrap_tensorflow\u001b[0m\u001b[1;33m\u001b[0m\u001b[1;33m\u001b[0m\u001b[0m\n\u001b[0;32m     40\u001b[0m \u001b[1;33m\u001b[0m\u001b[0m\n\u001b[1;32m---> 41\u001b[1;33m \u001b[1;32mfrom\u001b[0m \u001b[0mtensorflow\u001b[0m\u001b[1;33m.\u001b[0m\u001b[0mpython\u001b[0m\u001b[1;33m.\u001b[0m\u001b[0meager\u001b[0m \u001b[1;32mimport\u001b[0m \u001b[0mcontext\u001b[0m\u001b[1;33m\u001b[0m\u001b[1;33m\u001b[0m\u001b[0m\n\u001b[0m\u001b[0;32m     42\u001b[0m \u001b[1;33m\u001b[0m\u001b[0m\n\u001b[0;32m     43\u001b[0m \u001b[1;31m# pylint: enable=wildcard-import\u001b[0m\u001b[1;33m\u001b[0m\u001b[1;33m\u001b[0m\u001b[1;33m\u001b[0m\u001b[0m\n",
      "\u001b[1;32m~\\AppData\\Roaming\\Python\\Python38\\site-packages\\tensorflow\\python\\eager\\context.py\u001b[0m in \u001b[0;36m<module>\u001b[1;34m\u001b[0m\n\u001b[0;32m     26\u001b[0m \u001b[1;32mimport\u001b[0m \u001b[0mthreading\u001b[0m\u001b[1;33m\u001b[0m\u001b[1;33m\u001b[0m\u001b[0m\n\u001b[0;32m     27\u001b[0m \u001b[1;33m\u001b[0m\u001b[0m\n\u001b[1;32m---> 28\u001b[1;33m \u001b[1;32mfrom\u001b[0m \u001b[0mabsl\u001b[0m \u001b[1;32mimport\u001b[0m \u001b[0mlogging\u001b[0m\u001b[1;33m\u001b[0m\u001b[1;33m\u001b[0m\u001b[0m\n\u001b[0m\u001b[0;32m     29\u001b[0m \u001b[1;32mimport\u001b[0m \u001b[0mnumpy\u001b[0m \u001b[1;32mas\u001b[0m \u001b[0mnp\u001b[0m\u001b[1;33m\u001b[0m\u001b[1;33m\u001b[0m\u001b[0m\n\u001b[0;32m     30\u001b[0m \u001b[1;32mimport\u001b[0m \u001b[0msix\u001b[0m\u001b[1;33m\u001b[0m\u001b[1;33m\u001b[0m\u001b[0m\n",
      "\u001b[1;31mModuleNotFoundError\u001b[0m: No module named 'absl'"
     ]
    }
   ],
   "source": [
    "import pandas as pd\n",
    "import numpy as np\n",
    "import os\n",
    "\n",
    "os.environ['TF_CPP_MIN_LOG_LEVEL'] = '2'\n",
    "import tensorflow as tf\n",
    "from sklearn.metrics import accuracy_score, precision_score, recall_score\n",
    "from tensorflow.keras import layers, losses, models, optimizers\n",
    "from tensorflow.keras.datasets import fashion_mnist\n",
    "\n",
    "import matplotlib.pyplot as plt\n",
    "from sklearn.model_selection import train_test_split\n",
    "from numpy.lib.stride_tricks import sliding_window_view\n",
    "from sklearn.preprocessing import MinMaxScaler\n",
    "\n",
    "\n",
    "def data_scaling(data):\n",
    "    scaler = MinMaxScaler()\n",
    "    data = scaler.fit_transform(data)\n",
    "\n",
    "    return data\n",
    "\n",
    "\n",
    "def data_sliding(data, n_features, Time_window):\n",
    "    reshape_num = data.shape[0] - Time_window + 1\n",
    "    data = sliding_window_view(data, (Time_window, n_features))\n",
    "    #   data = data.reshape(reshape_num, Time_window, n_features) <-필요없음\n",
    "\n",
    "    return data\n",
    "\n",
    "\n",
    "def data_load_processing(FILENAME, Time_window=None):\n",
    "    df = pd.read_csv(FILENAME)\n",
    "    df = df.drop(['Time'], axis=1)\n",
    "    n_features = df.shape[1]\n",
    "    x_train, x_test = train_test_split(df, test_size=0.9, shuffle=False)\n",
    "    #x_validation, x_test = train_test_split(x_test, test_size=0.5, shuffle=False)\n",
    "\n",
    "    x_train = data_scaling(x_train)\n",
    "    x_test = data_scaling(x_test)\n",
    "    #x_validation = data_scaling(x_validation)\n",
    "\n",
    "    x_train = data_sliding(x_train, n_features, Time_window)\n",
    "    x_test = data_sliding(x_test, n_features, Time_window)\n",
    "    #x_validation = data_sliding(x_validation, n_features, Time_window)\n",
    "\n",
    "    return x_train, x_test #, x_validation\n",
    "\n",
    "\n",
    "# Press the green button in the gutter to run the script.\n",
    "\n",
    "class Sampling(layers.Layer):\n",
    "    \"\"\"Uses (z_mean, z_log_var) to sample z, the vector encoding a digit.\"\"\"\n",
    "\n",
    "    def call(self, inputs):\n",
    "        z_mean, z_log_var = inputs\n",
    "        batch = tf.shape(z_mean)[0]\n",
    "        dim = tf.shape(z_mean)[1]\n",
    "        epsilon = tf.keras.backend.random_normal(shape=(batch, dim))\n",
    "        return z_mean + tf.exp(0.5 * z_log_var) * epsilon\n",
    "\n",
    "\n",
    "if __name__ == '__main__':\n",
    "    config = tf.compat.v1.ConfigProto()\n",
    "    config.gpu_options.allow_growth = True\n",
    "    session = tf.compat.v1.Session(config=config)\n",
    "\n",
    "    FILENAME = \"KRW-XRP_min_1_2018-03-01.csv\"\n",
    "    Time_window = 8\n",
    "    x_train, x_test= data_load_processing(FILENAME, Time_window=Time_window)\n",
    "    #n_features = x_train.shape[1]\n",
    "    #print(x_train.shape)\n",
    "\n",
    "    latent_dim = 2\n",
    "\n",
    "     #encoder\n",
    "    inputs = tf.keras.Input(shape=(1, 8, 54))\n",
    "    h = layers.Conv2D(32, kernel_size=(2, 4), strides=(2, 2), padding='valid', activation=tf.keras.activations.relu,\n",
    "                      name=\"conv1\", data_format=\"channels_first\")(inputs)\n",
    "    h = layers.Conv2D(64, kernel_size=(2, 4), strides=(2, 2), padding='valid', activation=tf.keras.activations.relu,\n",
    "                      name=\"conv2\", data_format=\"channels_first\")(h)\n",
    "    h = layers.Conv2D(128, kernel_size=(2, 4), strides=(2, 2), padding='valid', activation=tf.keras.activations.relu,\n",
    "                      name=\"conv3\", data_format=\"channels_first\")(h)\n",
    "    h = layers.Flatten()(h)\n",
    "    h = layers.Dense(16, activation=\"relu\")(h)\n",
    "\n",
    "    #vae\n",
    "    z_mean = layers.Dense(latent_dim, name='z_mean')(h)\n",
    "    z_log_var = layers.Dense(latent_dim, name='z_log_var')(h)\n",
    "    z = Sampling()([z_mean, z_log_var])\n",
    "    encoder = tf.keras.Model(inputs, [z_mean, z_log_var, z], name='encoder')\n",
    "    encoder.summary()\n",
    "\n",
    "    #decoder\n",
    "    latent_inputs = tf.keras.Input(shape=(latent_dim,))\n",
    "    h = layers.Dense(1 * 5 * 128, activation=\"relu\")(latent_inputs)\n",
    "    h = layers.Reshape((128, 1, 5))(h)\n",
    "    h = layers.Conv2DTranspose(64, kernel_size=(2, 4), strides=(2, 2), padding='valid', activation=tf.keras.activations.relu, data_format=\"channels_first\")(h)\n",
    "    h = layers.Conv2DTranspose(32, kernel_size=(2, 4), strides=(2, 2), padding='valid', activation=tf.keras.activations.relu,\n",
    "                      data_format=\"channels_first\")(h)\n",
    "    decoder_outputs = layers.Conv2DTranspose(1, kernel_size=(2, 4), strides=(2, 2), activation=\"sigmoid\", padding=\"valid\",\n",
    "                                             data_format=\"channels_first\")(h)\n",
    "    decoder = tf.keras.Model(latent_inputs, decoder_outputs, name=\"decoder\")\n",
    "    decoder.summary()\n",
    "\n",
    "\n",
    "    class VAE(tf.keras.Model):\n",
    "        def __init__(self, encoder, decoder, **kwargs):\n",
    "            super(VAE, self).__init__(**kwargs)\n",
    "            self.encoder = encoder\n",
    "            self.decoder = decoder\n",
    "            self.total_loss_tracker = tf.keras.metrics.Mean(name=\"total_loss\")\n",
    "            self.reconstruction_loss_tracker = tf.keras.metrics.Mean(\n",
    "                name=\"reconstruction_loss\"\n",
    "            )\n",
    "            self.kl_loss_tracker = tf.keras.metrics.Mean(name=\"kl_loss\")\n",
    "\n",
    "        @property\n",
    "        def metrics(self):\n",
    "            return [\n",
    "                self.total_loss_tracker,\n",
    "                self.reconstruction_loss_tracker,\n",
    "                self.kl_loss_tracker,\n",
    "            ]\n",
    "\n",
    "        def train_step(self, data):\n",
    "            with tf.GradientTape() as tape:\n",
    "                z_mean, z_log_var, z = self.encoder(data)\n",
    "                reconstruction = self.decoder(z)\n",
    "                reconstruction_loss = tf.reduce_mean(\n",
    "                    tf.reduce_sum(\n",
    "                        tf.keras.losses.binary_crossentropy(data, reconstruction), axis=(1, 2)\n",
    "                    )\n",
    "                )\n",
    "                kl_loss = -0.5 * (1 + z_log_var - tf.square(z_mean) - tf.exp(z_log_var))\n",
    "                kl_loss = tf.reduce_mean(tf.reduce_sum(kl_loss, axis=1))\n",
    "                total_loss = reconstruction_loss + kl_loss\n",
    "            grads = tape.gradient(total_loss, self.trainable_weights)\n",
    "            self.optimizer.apply_gradients(zip(grads, self.trainable_weights))\n",
    "            self.total_loss_tracker.update_state(total_loss)\n",
    "            self.reconstruction_loss_tracker.update_state(reconstruction_loss)\n",
    "            self.kl_loss_tracker.update_state(kl_loss)\n",
    "            return {\n",
    "                \"loss\": self.total_loss_tracker.result(),\n",
    "                \"reconstruction_loss\": self.reconstruction_loss_tracker.result(),\n",
    "                \"kl_loss\": self.kl_loss_tracker.result(),\n",
    "            }\n",
    "\n",
    "\n",
    "\n",
    "    vae = VAE(encoder, decoder)\n",
    "    #vae.compile(optimizer=tf.keras.optimizers.Adam())\n",
    "    #vae.fit(x_train, epochs=5, batch_size=128)\n",
    "\n",
    "    a,b,c=vae.encoder.predict(x_train)"
   ]
  },
  {
   "cell_type": "code",
   "execution_count": null,
   "metadata": {},
   "outputs": [],
   "source": []
  }
 ],
 "metadata": {
  "kernelspec": {
   "display_name": "Python 3",
   "language": "python",
   "name": "python3"
  },
  "language_info": {
   "codemirror_mode": {
    "name": "ipython",
    "version": 3
   },
   "file_extension": ".py",
   "mimetype": "text/x-python",
   "name": "python",
   "nbconvert_exporter": "python",
   "pygments_lexer": "ipython3",
   "version": "3.8.5"
  }
 },
 "nbformat": 4,
 "nbformat_minor": 4
}
