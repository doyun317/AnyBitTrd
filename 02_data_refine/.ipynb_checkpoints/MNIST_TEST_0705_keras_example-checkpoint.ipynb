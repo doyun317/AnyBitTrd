{
 "cells": [
  {
   "cell_type": "code",
   "execution_count": 91,
   "metadata": {},
   "outputs": [],
   "source": [
    "import pandas as pd\n",
    "import numpy as np\n",
    "import os\n",
    "\n",
    "import tensorflow as tf\n",
    "from tensorflow.keras import layers, losses, models, optimizers\n",
    "\n",
    "import matplotlib.pyplot as plt\n",
    "from sklearn.model_selection import train_test_split\n",
    "from numpy.lib.stride_tricks import sliding_window_view\n",
    "from sklearn.preprocessing import MinMaxScaler\n",
    "\n",
    "import vae as V\n",
    "\n",
    "def data_scaling(data):             #스케일러, main\n",
    "    scaler = MinMaxScaler()\n",
    "    data = scaler.fit_transform(data)\n",
    "\n",
    "    return data\n",
    "\n",
    "\n",
    "def data_sliding(data, n_features, Time_window): #데이터 밀기, main\n",
    "    # reshape_num = data.shape[0] - Time_window + 1\n",
    "    data = sliding_window_view(data, (Time_window, n_features))\n",
    "    #   data = data.reshape(reshape_num, Time_window, n_features) <-필요없음\n",
    "\n",
    "    return data\n",
    "\n",
    "\n",
    "def data_load_processing(FILENAME, Time_window=None): #데이터 로딩 및 스케일러 사용, main\n",
    "    df = pd.read_csv(FILENAME)\n",
    "    df = df.drop(['Time'], axis=1)\n",
    "    n_features = df.shape[1]\n",
    "    x_train, x_test = train_test_split(df, test_size=0.9, shuffle=False)\n",
    "    #x_validation, x_test = train_test_split(x_test, test_size=0.5, shuffle=False)\n",
    "\n",
    "    x_train = data_scaling(x_train)\n",
    "    x_test = data_scaling(x_test)\n",
    "    #x_validation = data_scaling(x_validation)\n",
    "\n",
    "    x_train = data_sliding(x_train, n_features, Time_window)\n",
    "    x_test = data_sliding(x_test, n_features, Time_window)\n",
    "    #x_validation = data_sliding(x_validation, n_features, Time_window)\n",
    "\n",
    "    return x_train, x_test #, x_validation\n",
    "\n",
    "\n",
    "class Sampling(layers.Layer):\n",
    "    \"\"\"Uses (z_mean, z_log_var) to sample z, the vector encoding a digit.\"\"\"\n",
    "\n",
    "    def call(self, inputs):\n",
    "        z_mean, z_log_var = inputs\n",
    "        batch = tf.shape(z_mean)[0]\n",
    "        dim = tf.shape(z_mean)[1]\n",
    "        epsilon = tf.keras.backend.random_normal(shape=(batch, dim))\n",
    "        return z_mean + tf.exp(0.5 * z_log_var) * epsilon\n",
    "\n",
    "class VAE(tf.keras.Model):\n",
    "    def __init__(self, encoder, decoder, **kwargs):\n",
    "        super(VAE, self).__init__(**kwargs)\n",
    "        self.encoder = encoder\n",
    "        self.decoder = decoder\n",
    "        self.total_loss_tracker = tf.keras.metrics.Mean(name=\"total_loss\")\n",
    "        self.reconstruction_loss_tracker = tf.keras.metrics.Mean(\n",
    "            name=\"reconstruction_loss\"\n",
    "        )\n",
    "        self.kl_loss_tracker = tf.keras.metrics.Mean(name=\"kl_loss\")\n",
    "\n",
    "    @property\n",
    "    def metrics(self):\n",
    "        return [\n",
    "            self.total_loss_tracker,\n",
    "            self.reconstruction_loss_tracker,\n",
    "            self.kl_loss_tracker,\n",
    "        ]\n",
    "\n",
    "    def train_step(self, data):\n",
    "        with tf.GradientTape() as tape:\n",
    "            z_mean, z_log_var, z = self.encoder(data)\n",
    "            reconstruction = self.decoder(z)\n",
    "            reconstruction_loss = tf.reduce_mean(\n",
    "                tf.reduce_sum(\n",
    "                    tf.keras.losses.binary_crossentropy(data, reconstruction), axis=(1, 2)\n",
    "                )\n",
    "            )\n",
    "            kl_loss = -0.5 * (1 + z_log_var - tf.square(z_mean) - tf.exp(z_log_var))\n",
    "            kl_loss = tf.reduce_mean(tf.reduce_sum(kl_loss, axis=1))\n",
    "            total_loss = reconstruction_loss + kl_loss\n",
    "        grads = tape.gradient(total_loss, self.trainable_weights)\n",
    "        self.optimizer.apply_gradients(zip(grads, self.trainable_weights))\n",
    "        self.total_loss_tracker.update_state(total_loss)\n",
    "        self.reconstruction_loss_tracker.update_state(reconstruction_loss)\n",
    "        self.kl_loss_tracker.update_state(kl_loss)\n",
    "        return {\n",
    "            \"loss\": self.total_loss_tracker.result(),\n",
    "            \"reconstruction_loss\": self.reconstruction_loss_tracker.result(),\n",
    "            \"kl_loss\": self.kl_loss_tracker.result(),\n",
    "        }\n",
    "\n",
    "\n",
    "def vae_model(input_shape, latent_dim, kernel_size, strides, padding):\n",
    "    inputs = tf.keras.Input(shape=input_shape)\n",
    "    h = layers.Conv2D(32, kernel_size=kernel_size, strides=strides, padding=padding, activation='relu',\n",
    "                      name=\"conv1\", data_format=\"channels_first\")(inputs)\n",
    "    h = layers.Conv2D(64, kernel_size=kernel_size, strides=strides, padding=padding, activation='relu',\n",
    "                      name=\"conv2\", data_format=\"channels_first\")(h)\n",
    "    h = layers.Conv2D(128, kernel_size=kernel_size, strides=strides, padding=padding, activation='relu',\n",
    "                      name=\"conv3\", data_format=\"channels_first\")(h)\n",
    "    shape_save = h.get_shape().as_list()\n",
    "    h = layers.Flatten()(h)\n",
    "    h = layers.Dense(16, activation=\"relu\")(h)\n",
    "\n",
    "    # vae\n",
    "    z_mean = layers.Dense(latent_dim, name='z_mean')(h)\n",
    "    z_log_var = layers.Dense(latent_dim, name='z_log_var')(h)\n",
    "    z = sampling([z_mean, z_log_var])\n",
    "    encoder = tf.keras.Model(inputs, [z_mean, z_log_var, z], name='encoder')\n",
    "\n",
    "    # decoder\n",
    "    latent_inputs = tf.keras.Input(shape=(latent_dim,))\n",
    "    h = layers.Dense(shape_save[1] * shape_save[2] * shape_save[3], activation=\"relu\")(latent_inputs)\n",
    "    h = layers.Reshape((shape_save[1], shape_save[2], shape_save[3]))(h)\n",
    "    h = layers.Conv2DTranspose(64, kernel_size=kernel_size, strides=strides, padding=padding, activation='relu',\n",
    "                               data_format=\"channels_first\")(h)\n",
    "    h = layers.Conv2DTranspose(32, kernel_size=kernel_size, strides=strides, padding=padding, activation='relu',\n",
    "                               data_format=\"channels_first\")(h)\n",
    "    decoder_outputs = layers.Conv2DTranspose(1,kernel_size=kernel_size, strides=strides, padding=padding, activation='relu',\n",
    "                                             data_format=\"channels_first\")(h)\n",
    "    decoder = tf.keras.Model(latent_inputs, decoder_outputs, name=\"decoder\")\n",
    "\n",
    "    return encoder, decoder\n",
    "\n",
    "def lstm_preprocess(latent_z, seq_length):\n",
    "    reshape_num = latent_z.shape[0] - seq_length + 1\n",
    "    slide_z = sliding_window_view(latent_z, (seq_length, latent_z.shape[1]))\n",
    "    slide_z = slide_z.reshape(reshape_num, seq_length, latent_z.shape[1])\n",
    "    slide_z = slide_z[:-1]\n",
    "\n",
    "    dataY = []\n",
    "    for i in range(0, len(latent_z) - seq_length):\n",
    "        _y = latent_z[i + seq_length]  # 다음 나타날 z(정답)\n",
    "        dataY.append(_y)  # dataY 리스트에 추가\n",
    "    dataY = np.array(dataY)\n",
    "    \n",
    "    return slide_z, dataY\n",
    "    \n",
    "    \n",
    "def lstm_model(seq_length, latent_dim, lstm_z):\n",
    "    \n",
    "    inputs = tf.keras.Input(shape=(seq_length, latent_dim))\n",
    "    h = layers.LSTM(32, activation=\"relu\", name='lstm1')(inputs)\n",
    "    lstm_outputs = layers.Dense(latent_dim, activation='sigmoid')(h)\n",
    "    lstm = tf.keras.Model(inputs, lstm_outputs, name='lstm')\n",
    "    lstm.compile(loss='mse', optimizer=tf.keras.optimizers.Adam())\n",
    "    lstm.fit(lstm_z, dataY, epochs=5, batch_size=256)\n",
    "    lstm_results = lstm.predict(lstm_z)\n",
    "\n",
    "    return lstm_results\n",
    "    \n",
    "    \n",
    "if __name__ == '__main__':\n",
    "    os.environ['TF_CPP_MIN_LOG_LEVEL'] = '2'\n",
    "    config = tf.compat.v1.ConfigProto()\n",
    "    config.gpu_options.allow_growth = True\n",
    "    session = tf.compat.v1.Session(config=config)\n",
    "\n",
    "    #---------------------------------사용자 설정 변수---------------------------------------\n",
    "    FILENAME = \"BTC_USDT.csv\"\n",
    "    Time_window = 8\n",
    "    latent_dim = 2\n",
    "    #-------------------------------------------------------------------------------------\n",
    "\n",
    "    #데이터 로딩\n",
    "    x_train, x_test= data_load_processing(FILENAME, Time_window=Time_window)\n"
   ]
  },
  {
   "cell_type": "code",
   "execution_count": 92,
   "metadata": {},
   "outputs": [],
   "source": [
    "def vae_model(input_shape, latent_dim, kernel_size, strides, padding):\n",
    "    inputs = tf.keras.Input(shape=input_shape)\n",
    "    h = layers.Conv2D(32, kernel_size=3, strides=(2,2), padding=padding, activation='relu',\n",
    "                      name=\"conv1\", data_format=\"channels_first\")(inputs)\n",
    "    h = layers.Conv2D(64,  kernel_size=3, strides=(2,2), padding=padding, activation='relu',\n",
    "                      name=\"conv3\", data_format=\"channels_first\")(h)\n",
    "    shape_save = h.get_shape().as_list()\n",
    "    h = layers.Flatten()(h)\n",
    "    h = layers.Dense(4, activation=\"relu\")(h)\n",
    "\n",
    "    # vae\n",
    "    z_mean = layers.Dense(latent_dim, name='z_mean')(h)\n",
    "    z_log_var = layers.Dense(latent_dim, name='z_log_var')(h)\n",
    "    z = Sampling()([z_mean, z_log_var])\n",
    "    encoder = tf.keras.Model(inputs, [z_mean, z_log_var, z], name='encoder')\n",
    "\n",
    "    # decoder\n",
    "    latent_inputs = tf.keras.Input(shape=(latent_dim,))\n",
    "    h = layers.Dense(shape_save[1] * shape_save[2] * shape_save[3], activation=\"relu\")(latent_inputs)\n",
    "    h = layers.Reshape((shape_save[1], shape_save[2], shape_save[3]))(h)\n",
    "    h = layers.Conv2DTranspose(64, kernel_size=3, strides=2, padding='same', activation='relu',\n",
    "                               data_format=\"channels_first\")(h)\n",
    "    h = layers.Conv2DTranspose(32, kernel_size=3, strides=2, padding='same', activation='relu',\n",
    "                               data_format=\"channels_first\")(h)\n",
    "    decoder_outputs = layers.Conv2DTranspose(1,kernel_size=3, strides=1, padding='same', activation=\"relu\",\n",
    "                                             data_format=\"channels_first\")(h)\n",
    "    decoder = tf.keras.Model(latent_inputs, decoder_outputs, name=\"decoder\")\n",
    "\n",
    "    return encoder, decoder"
   ]
  },
  {
   "cell_type": "code",
   "execution_count": 24,
   "metadata": {},
   "outputs": [],
   "source": [
    "import seaborn as sns\n",
    "import matplotlib.pyplot as plt"
   ]
  },
  {
   "cell_type": "code",
   "execution_count": 8,
   "metadata": {},
   "outputs": [],
   "source": [
    "(train_images, _), (test_images, _) = tf.keras.datasets.mnist.load_data()"
   ]
  },
  {
   "cell_type": "code",
   "execution_count": 9,
   "metadata": {},
   "outputs": [],
   "source": [
    "def preprocess_images(images):\n",
    "    images = images.reshape((images.shape[0],1, 28, 28)) / 255.\n",
    "    return np.where(images > .5, 1.0, 0.0).astype('float32')\n",
    "\n",
    "train_images = preprocess_images(train_images)\n",
    "test_images = preprocess_images(test_images)"
   ]
  },
  {
   "cell_type": "code",
   "execution_count": 10,
   "metadata": {},
   "outputs": [
    {
     "data": {
      "text/plain": [
       "(60000, 1, 28, 28)"
      ]
     },
     "execution_count": 10,
     "metadata": {},
     "output_type": "execute_result"
    }
   ],
   "source": [
    "train_images.shape"
   ]
  },
  {
   "cell_type": "code",
   "execution_count": 93,
   "metadata": {
    "scrolled": false
   },
   "outputs": [
    {
     "name": "stdout",
     "output_type": "stream",
     "text": [
      "Model: \"encoder\"\n",
      "__________________________________________________________________________________________________\n",
      "Layer (type)                    Output Shape         Param #     Connected to                     \n",
      "==================================================================================================\n",
      "input_15 (InputLayer)           [(None, 1, 28, 28)]  0                                            \n",
      "__________________________________________________________________________________________________\n",
      "conv1 (Conv2D)                  (None, 32, 14, 14)   320         input_15[0][0]                   \n",
      "__________________________________________________________________________________________________\n",
      "conv3 (Conv2D)                  (None, 64, 7, 7)     18496       conv1[0][0]                      \n",
      "__________________________________________________________________________________________________\n",
      "flatten_7 (Flatten)             (None, 3136)         0           conv3[0][0]                      \n",
      "__________________________________________________________________________________________________\n",
      "dense_14 (Dense)                (None, 4)            12548       flatten_7[0][0]                  \n",
      "__________________________________________________________________________________________________\n",
      "z_mean (Dense)                  (None, 2)            10          dense_14[0][0]                   \n",
      "__________________________________________________________________________________________________\n",
      "z_log_var (Dense)               (None, 2)            10          dense_14[0][0]                   \n",
      "__________________________________________________________________________________________________\n",
      "sampling (Sampling)             (None, 2)            0           z_mean[0][0]                     \n",
      "                                                                 z_log_var[0][0]                  \n",
      "==================================================================================================\n",
      "Total params: 31,384\n",
      "Trainable params: 31,384\n",
      "Non-trainable params: 0\n",
      "__________________________________________________________________________________________________\n",
      "Model: \"decoder\"\n",
      "_________________________________________________________________\n",
      "Layer (type)                 Output Shape              Param #   \n",
      "=================================================================\n",
      "input_16 (InputLayer)        [(None, 2)]               0         \n",
      "_________________________________________________________________\n",
      "dense_15 (Dense)             (None, 3136)              9408      \n",
      "_________________________________________________________________\n",
      "reshape_7 (Reshape)          (None, 64, 7, 7)          0         \n",
      "_________________________________________________________________\n",
      "conv2d_transpose_18 (Conv2DT (None, 64, 14, 14)        36928     \n",
      "_________________________________________________________________\n",
      "conv2d_transpose_19 (Conv2DT (None, 32, 28, 28)        18464     \n",
      "_________________________________________________________________\n",
      "conv2d_transpose_20 (Conv2DT (None, 1, 28, 28)         289       \n",
      "=================================================================\n",
      "Total params: 65,089\n",
      "Trainable params: 65,089\n",
      "Non-trainable params: 0\n",
      "_________________________________________________________________\n",
      "Epoch 1/30\n",
      "469/469 [==============================] - 4s 7ms/step - loss: 9.7056 - reconstruction_loss: 8.0677 - kl_loss: 2.4243e-04\n",
      "Epoch 2/30\n",
      "469/469 [==============================] - 3s 7ms/step - loss: 7.3678 - reconstruction_loss: 7.3714 - kl_loss: 2.3002e-05\n",
      "Epoch 3/30\n",
      "469/469 [==============================] - 3s 7ms/step - loss: 7.3705 - reconstruction_loss: 7.3695 - kl_loss: 8.3429e-06\n",
      "Epoch 4/30\n",
      "469/469 [==============================] - 3s 7ms/step - loss: 7.3594 - reconstruction_loss: 7.3681 - kl_loss: 6.0841e-06\n",
      "Epoch 5/30\n",
      "469/469 [==============================] - 3s 7ms/step - loss: 7.3561 - reconstruction_loss: 7.3672 - kl_loss: 4.8527e-06\n",
      "Epoch 6/30\n",
      "469/469 [==============================] - 3s 7ms/step - loss: 7.3760 - reconstruction_loss: 7.3702 - kl_loss: 4.4662e-06\n",
      "Epoch 7/30\n",
      "469/469 [==============================] - 3s 7ms/step - loss: 7.3611 - reconstruction_loss: 7.3679 - kl_loss: 4.6558e-06\n",
      "Epoch 8/30\n",
      "469/469 [==============================] - 3s 7ms/step - loss: 7.3762 - reconstruction_loss: 7.3669 - kl_loss: 4.3241e-06\n",
      "Epoch 9/30\n",
      "469/469 [==============================] - 3s 7ms/step - loss: 7.3688 - reconstruction_loss: 7.3682 - kl_loss: 4.6042e-06\n",
      "Epoch 10/30\n",
      "469/469 [==============================] - 3s 7ms/step - loss: 7.3574 - reconstruction_loss: 7.4000 - kl_loss: 1.6371e-05\n",
      "Epoch 11/30\n",
      "469/469 [==============================] - 3s 7ms/step - loss: 7.4004 - reconstruction_loss: 7.3974 - kl_loss: 3.2885e-05\n",
      "Epoch 12/30\n",
      "469/469 [==============================] - 3s 7ms/step - loss: 7.3887 - reconstruction_loss: 7.3782 - kl_loss: 6.1271e-06\n",
      "Epoch 13/30\n",
      "469/469 [==============================] - 3s 7ms/step - loss: 7.3928 - reconstruction_loss: 7.4055 - kl_loss: 3.1309e-05\n",
      "Epoch 14/30\n",
      "469/469 [==============================] - 3s 7ms/step - loss: 7.3773 - reconstruction_loss: 7.3876 - kl_loss: 1.4553e-05\n",
      "Epoch 15/30\n",
      "469/469 [==============================] - 3s 7ms/step - loss: 7.3954 - reconstruction_loss: 7.3951 - kl_loss: 2.1226e-05\n",
      "Epoch 16/30\n",
      "469/469 [==============================] - 3s 7ms/step - loss: 7.3793 - reconstruction_loss: 7.3830 - kl_loss: 1.0258e-05\n",
      "Epoch 17/30\n",
      "469/469 [==============================] - 3s 7ms/step - loss: 7.3872 - reconstruction_loss: 7.3833 - kl_loss: 9.8203e-06\n",
      "Epoch 18/30\n",
      "469/469 [==============================] - 3s 7ms/step - loss: 7.3821 - reconstruction_loss: 7.3785 - kl_loss: 3.8461e-06\n",
      "Epoch 19/30\n",
      "469/469 [==============================] - 3s 7ms/step - loss: 7.3952 - reconstruction_loss: 7.3772 - kl_loss: 1.0021e-05\n",
      "Epoch 20/30\n",
      "469/469 [==============================] - 3s 7ms/step - loss: 7.3700 - reconstruction_loss: 7.3734 - kl_loss: 4.3295e-06\n",
      "Epoch 21/30\n",
      "469/469 [==============================] - 3s 7ms/step - loss: 7.3636 - reconstruction_loss: 7.3724 - kl_loss: 2.6156e-06\n",
      "Epoch 22/30\n",
      "469/469 [==============================] - 3s 7ms/step - loss: 7.3693 - reconstruction_loss: 7.3715 - kl_loss: 3.4952e-06\n",
      "Epoch 23/30\n",
      "469/469 [==============================] - 3s 7ms/step - loss: 7.3604 - reconstruction_loss: 7.3722 - kl_loss: 3.3726e-06\n",
      "Epoch 24/30\n",
      "469/469 [==============================] - 3s 7ms/step - loss: 7.3927 - reconstruction_loss: 7.4009 - kl_loss: 2.2514e-05\n",
      "Epoch 25/30\n",
      "469/469 [==============================] - 3s 7ms/step - loss: 7.4072 - reconstruction_loss: 7.3947 - kl_loss: 3.9156e-05\n",
      "Epoch 26/30\n",
      "469/469 [==============================] - 3s 7ms/step - loss: 7.4381 - reconstruction_loss: 7.4238 - kl_loss: 1.5240e-04\n",
      "Epoch 27/30\n",
      "469/469 [==============================] - 3s 7ms/step - loss: 7.3922 - reconstruction_loss: 7.3916 - kl_loss: 1.0092e-05\n",
      "Epoch 28/30\n",
      "469/469 [==============================] - 3s 7ms/step - loss: 7.3849 - reconstruction_loss: 7.3827 - kl_loss: 2.9185e-06\n",
      "Epoch 29/30\n",
      "469/469 [==============================] - 3s 7ms/step - loss: 7.3867 - reconstruction_loss: 7.3789 - kl_loss: 1.6364e-06\n",
      "Epoch 30/30\n",
      "469/469 [==============================] - 3s 7ms/step - loss: 7.3864 - reconstruction_loss: 7.3829 - kl_loss: 4.0623e-06\n"
     ]
    }
   ],
   "source": [
    "#VAE_model\n",
    "latent_dim = 2\n",
    "input_shape = (1, 28, 28)\n",
    "kernel_size = (2,4)\n",
    "strides = (2,2)\n",
    "padding = \"same\"\n",
    "\n",
    "encoder, decoder = vae_model(input_shape, latent_dim, kernel_size, strides, padding)\n",
    "encoder.summary()\n",
    "decoder.summary()\n",
    "\n",
    "#VAE\n",
    "vae = V.VAE(encoder, decoder)\n",
    "vae.compile(optimizer=tf.keras.optimizers.Adam())\n",
    "vae.fit(train_images, epochs=30, batch_size=128)\n",
    "\n",
    "z_mean_, z_log_var_, latent_z = vae.encoder.predict(train_images)\n",
    "\n",
    "decoded_latent_z = vae.decoder.predict(latent_z)"
   ]
  },
  {
   "cell_type": "code",
   "execution_count": 94,
   "metadata": {},
   "outputs": [
    {
     "data": {
      "text/plain": [
       "<AxesSubplot:>"
      ]
     },
     "execution_count": 94,
     "metadata": {},
     "output_type": "execute_result"
    },
    {
     "data": {
      "image/png": "[encoded data removed]",
      "text/plain": [
       "<Figure size 1728x576 with 2 Axes>"
      ]
     },
     "metadata": {
      "needs_background": "light"
     },
     "output_type": "display_data"
    }
   ],
   "source": [
    "plt.figure(figsize=(24, 8))\n",
    "sns.heatmap(train_images[2000][0], cmap='viridis')\n"
   ]
  },
  {
   "cell_type": "code",
   "execution_count": 106,
   "metadata": {},
   "outputs": [
    {
     "data": {
      "text/plain": [
       "<AxesSubplot:>"
      ]
     },
     "execution_count": 106,
     "metadata": {},
     "output_type": "execute_result"
    },
    {
     "data": {
      "image/png": "[encoded data removed]",
      "text/plain": [
       "<Figure size 1728x576 with 2 Axes>"
      ]
     },
     "metadata": {
      "needs_background": "light"
     },
     "output_type": "display_data"
    }
   ],
   "source": [
    "plt.figure(figsize=(24, 8))\n",
    "sns.heatmap(decoded_latent_z[5000][0], cmap='viridis')\n"
   ]
  },
  {
   "cell_type": "code",
   "execution_count": 96,
   "metadata": {
    "scrolled": true
   },
   "outputs": [
    {
     "data": {
      "image/png": "[encoded data removed]",
      "text/plain": [
       "<Figure size 432x288 with 1 Axes>"
      ]
     },
     "metadata": {
      "needs_background": "light"
     },
     "output_type": "display_data"
    }
   ],
   "source": [
    "plt.imshow(decoded_latent_z[101][0], 'gray')\n",
    "plt.show()"
   ]
  },
  {
   "cell_type": "code",
   "execution_count": 97,
   "metadata": {},
   "outputs": [
    {
     "data": {
      "image/png": "[encoded data removed]",
      "text/plain": [
       "<Figure size 432x288 with 1 Axes>"
      ]
     },
     "metadata": {
      "needs_background": "light"
     },
     "output_type": "display_data"
    }
   ],
   "source": [
    "plt.imshow(train_images[101][0], 'gray')\n",
    "plt.show()"
   ]
  },
  {
   "cell_type": "code",
   "execution_count": 98,
   "metadata": {},
   "outputs": [
    {
     "data": {
      "text/plain": [
       "0.13558386"
      ]
     },
     "execution_count": 98,
     "metadata": {},
     "output_type": "execute_result"
    }
   ],
   "source": [
    "decoded_latent_z[0][0].mean()"
   ]
  },
  {
   "cell_type": "code",
   "execution_count": 99,
   "metadata": {},
   "outputs": [
    {
     "data": {
      "text/plain": [
       "0.13369152"
      ]
     },
     "execution_count": 99,
     "metadata": {},
     "output_type": "execute_result"
    }
   ],
   "source": [
    "decoded_latent_z[1][0].mean()"
   ]
  },
  {
   "cell_type": "code",
   "execution_count": 100,
   "metadata": {},
   "outputs": [
    {
     "data": {
      "text/plain": [
       "0.13521367"
      ]
     },
     "execution_count": 100,
     "metadata": {},
     "output_type": "execute_result"
    }
   ],
   "source": [
    "decoded_latent_z[3][0].mean()"
   ]
  },
  {
   "cell_type": "code",
   "execution_count": 102,
   "metadata": {},
   "outputs": [
    {
     "data": {
      "text/plain": [
       "array([[4.5487519e-05, 2.8072472e-04],\n",
       "       [4.5487519e-05, 2.8072472e-04],\n",
       "       [4.5487519e-05, 2.8072472e-04],\n",
       "       ...,\n",
       "       [4.5487519e-05, 2.8072472e-04],\n",
       "       [4.5487519e-05, 2.8072472e-04],\n",
       "       [4.5487519e-05, 2.8072472e-04]], dtype=float32)"
      ]
     },
     "execution_count": 102,
     "metadata": {},
     "output_type": "execute_result"
    }
   ],
   "source": [
    "z_mean_"
   ]
  },
  {
   "cell_type": "code",
   "execution_count": 103,
   "metadata": {},
   "outputs": [
    {
     "data": {
      "text/plain": [
       "array([[-0.00208848, -0.00158465],\n",
       "       [-0.00208848, -0.00158465],\n",
       "       [-0.00208848, -0.00158465],\n",
       "       ...,\n",
       "       [-0.00208848, -0.00158465],\n",
       "       [-0.00208848, -0.00158465],\n",
       "       [-0.00208848, -0.00158465]], dtype=float32)"
      ]
     },
     "execution_count": 103,
     "metadata": {},
     "output_type": "execute_result"
    }
   ],
   "source": [
    "z_log_var_"
   ]
  },
  {
   "cell_type": "code",
   "execution_count": null,
   "metadata": {},
   "outputs": [],
   "source": []
  }
 ],
 "metadata": {
  "kernelspec": {
   "display_name": "Python 3",
   "language": "python",
   "name": "python3"
  },
  "language_info": {
   "codemirror_mode": {
    "name": "ipython",
    "version": 3
   },
   "file_extension": ".py",
   "mimetype": "text/x-python",
   "name": "python",
   "nbconvert_exporter": "python",
   "pygments_lexer": "ipython3",
   "version": "3.8.5"
  }
 },
 "nbformat": 4,
 "nbformat_minor": 4
}
