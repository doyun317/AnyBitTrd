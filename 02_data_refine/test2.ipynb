{
 "cells": [
  {
   "cell_type": "code",
   "execution_count": 14,
   "metadata": {
    "scrolled": false
   },
   "outputs": [
    {
     "name": "stdout",
     "output_type": "stream",
     "text": [
      "1233/1233 [==============================] - 9s 7ms/step - loss: 4.5889 - reconstruction_loss: 3.9925 - kl_loss: 0.0025\n",
      "WARNING:tensorflow:Layer lstm1 will not use cuDNN kernel since it doesn't meet the cuDNN kernel criteria. It will use generic GPU kernel as fallback when running on GPU\n",
      "Epoch 1/5\n",
      "617/617 [==============================] - 11s 17ms/step - loss: 1.0631\n",
      "Epoch 2/5\n",
      "617/617 [==============================] - 10s 17ms/step - loss: 0.9974\n",
      "Epoch 3/5\n",
      "617/617 [==============================] - 11s 17ms/step - loss: 0.9978\n",
      "Epoch 4/5\n",
      "617/617 [==============================] - 10s 17ms/step - loss: 0.9969\n",
      "Epoch 5/5\n",
      "617/617 [==============================] - 10s 17ms/step - loss: 0.9959\n"
     ]
    }
   ],
   "source": [
    "import pandas as pd\n",
    "import numpy as np\n",
    "import os\n",
    "\n",
    "import tensorflow as tf\n",
    "from tensorflow.keras import layers, losses, models, optimizers\n",
    "\n",
    "import matplotlib.pyplot as plt\n",
    "from sklearn.model_selection import train_test_split\n",
    "from numpy.lib.stride_tricks import sliding_window_view\n",
    "from sklearn.preprocessing import MinMaxScaler\n",
    "\n",
    "import vae as V\n",
    "\n",
    "def data_scaling(data):             #스케일러, main\n",
    "    scaler = MinMaxScaler()\n",
    "    data = scaler.fit_transform(data)\n",
    "\n",
    "    return data\n",
    "\n",
    "\n",
    "def data_sliding(data, n_features, Time_window): #데이터 밀기, main\n",
    "    # reshape_num = data.shape[0] - Time_window + 1\n",
    "    data = sliding_window_view(data, (Time_window, n_features))\n",
    "    #   data = data.reshape(reshape_num, Time_window, n_features) <-필요없음\n",
    "\n",
    "    return data\n",
    "\n",
    "\n",
    "def data_load_processing(FILENAME, Time_window=None): #데이터 로딩 및 스케일러 사용, main\n",
    "    df = pd.read_csv(FILENAME)\n",
    "    df = df.drop(['Time'], axis=1)\n",
    "    n_features = df.shape[1]\n",
    "    x_train, x_test = train_test_split(df, test_size=0.9, shuffle=False)\n",
    "    #x_validation, x_test = train_test_split(x_test, test_size=0.5, shuffle=False)\n",
    "\n",
    "    x_train = data_scaling(x_train)\n",
    "    x_test = data_scaling(x_test)\n",
    "    #x_validation = data_scaling(x_validation)\n",
    "\n",
    "    x_train = data_sliding(x_train, n_features, Time_window)\n",
    "    x_test = data_sliding(x_test, n_features, Time_window)\n",
    "    #x_validation = data_sliding(x_validation, n_features, Time_window)\n",
    "\n",
    "    return x_train, x_test #, x_validation\n",
    "\n",
    "\n",
    "def sampling(inputs):\n",
    "    z_mean, z_log_var = inputs\n",
    "    batch = tf.shape(z_mean)[0]\n",
    "    dim = tf.shape(z_mean)[1]\n",
    "    epsilon = tf.keras.backend.random_normal(shape=(batch, dim))\n",
    "    return z_mean + tf.exp(0.5 * z_log_var) * epsilon\n",
    "\n",
    "class VAE(tf.keras.Model):\n",
    "    def __init__(self, encoder, decoder, **kwargs):\n",
    "        super(VAE, self).__init__(**kwargs)\n",
    "        self.encoder = encoder\n",
    "        self.decoder = decoder\n",
    "        self.total_loss_tracker = tf.keras.metrics.Mean(name=\"total_loss\")\n",
    "        self.reconstruction_loss_tracker = tf.keras.metrics.Mean(\n",
    "            name=\"reconstruction_loss\"\n",
    "        )\n",
    "        self.kl_loss_tracker = tf.keras.metrics.Mean(name=\"kl_loss\")\n",
    "\n",
    "    @property\n",
    "    def metrics(self):\n",
    "        return [\n",
    "            self.total_loss_tracker,\n",
    "            self.reconstruction_loss_tracker,\n",
    "            self.kl_loss_tracker,\n",
    "        ]\n",
    "\n",
    "    def train_step(self, data):\n",
    "        with tf.GradientTape() as tape:\n",
    "            z_mean, z_log_var, z = self.encoder(data)\n",
    "            reconstruction = self.decoder(z)\n",
    "            reconstruction_loss = tf.reduce_mean(\n",
    "                tf.reduce_sum(\n",
    "                    tf.keras.losses.binary_crossentropy(data, reconstruction), axis=(1, 2)\n",
    "                )\n",
    "            )\n",
    "            kl_loss = -0.5 * (1 + z_log_var - tf.square(z_mean) - tf.exp(z_log_var))\n",
    "            kl_loss = tf.reduce_mean(tf.reduce_sum(kl_loss, axis=1))\n",
    "            total_loss = reconstruction_loss + kl_loss\n",
    "        grads = tape.gradient(total_loss, self.trainable_weights)\n",
    "        self.optimizer.apply_gradients(zip(grads, self.trainable_weights))\n",
    "        self.total_loss_tracker.update_state(total_loss)\n",
    "        self.reconstruction_loss_tracker.update_state(reconstruction_loss)\n",
    "        self.kl_loss_tracker.update_state(kl_loss)\n",
    "        return {\n",
    "            \"loss\": self.total_loss_tracker.result(),\n",
    "            \"reconstruction_loss\": self.reconstruction_loss_tracker.result(),\n",
    "            \"kl_loss\": self.kl_loss_tracker.result(),\n",
    "        }\n",
    "\n",
    "\n",
    "def vae_model(input_shape, latent_dim, kernel_size, strides, padding):\n",
    "    inputs = tf.keras.Input(shape=input_shape)\n",
    "    h = layers.Conv2D(32, kernel_size=kernel_size, strides=strides, padding=padding, activation='relu',\n",
    "                      name=\"conv1\", data_format=\"channels_first\")(inputs)\n",
    "    h = layers.Conv2D(64, kernel_size=kernel_size, strides=strides, padding=padding, activation='relu',\n",
    "                      name=\"conv2\", data_format=\"channels_first\")(h)\n",
    "    h = layers.Conv2D(128, kernel_size=kernel_size, strides=strides, padding=padding, activation='relu',\n",
    "                      name=\"conv3\", data_format=\"channels_first\")(h)\n",
    "    shape_save = h.get_shape().as_list()\n",
    "    h = layers.Flatten()(h)\n",
    "    h = layers.Dense(16, activation=\"relu\")(h)\n",
    "\n",
    "    # vae\n",
    "    z_mean = layers.Dense(latent_dim, name='z_mean')(h)\n",
    "    z_log_var = layers.Dense(latent_dim, name='z_log_var')(h)\n",
    "    z = sampling([z_mean, z_log_var])\n",
    "    encoder = tf.keras.Model(inputs, [z_mean, z_log_var, z], name='encoder')\n",
    "\n",
    "    # decoder\n",
    "    latent_inputs = tf.keras.Input(shape=(latent_dim,))\n",
    "    h = layers.Dense(shape_save[1] * shape_save[2] * shape_save[3], activation=\"relu\")(latent_inputs)\n",
    "    h = layers.Reshape((shape_save[1], shape_save[2], shape_save[3]))(h)\n",
    "    h = layers.Conv2DTranspose(64, kernel_size=kernel_size, strides=strides, padding=padding, activation='relu',\n",
    "                               data_format=\"channels_first\")(h)\n",
    "    h = layers.Conv2DTranspose(32, kernel_size=kernel_size, strides=strides, padding=padding, activation='relu',\n",
    "                               data_format=\"channels_first\")(h)\n",
    "    decoder_outputs = layers.Conv2DTranspose(1,kernel_size=kernel_size, strides=strides, padding=padding, activation=\"relu\",\n",
    "                                             data_format=\"channels_first\")(h)\n",
    "    decoder = tf.keras.Model(latent_inputs, decoder_outputs, name=\"decoder\")\n",
    "\n",
    "    return encoder, decoder\n",
    "\n",
    "def lstm_preprocess(latent_z, seq_length):\n",
    "    reshape_num = latent_z.shape[0] - seq_length + 1\n",
    "    slide_z = sliding_window_view(latent_z, (seq_length, latent_z.shape[1]))\n",
    "    slide_z = slide_z.reshape(reshape_num, seq_length, latent_z.shape[1])\n",
    "    slide_z = slide_z[:-1]\n",
    "\n",
    "    dataY = []\n",
    "    for i in range(0, len(latent_z) - seq_length):\n",
    "        _y = latent_z[i + seq_length]  # 다음 나타날 z(정답)\n",
    "        dataY.append(_y)  # dataY 리스트에 추가\n",
    "    dataY = np.array(dataY)\n",
    "    \n",
    "    return slide_z, dataY\n",
    "    \n",
    "    \n",
    "def lstm_model(seq_length, latent_dim, lstm_z):\n",
    "    \n",
    "    inputs = tf.keras.Input(shape=(seq_length, latent_dim))\n",
    "    h = layers.LSTM(32, activation=\"relu\", name='lstm1')(inputs)\n",
    "    lstm_outputs = layers.Dense(latent_dim, activation='sigmoid')(h)\n",
    "    lstm = tf.keras.Model(inputs, lstm_outputs, name='lstm')\n",
    "    lstm.compile(loss='mse', optimizer=tf.keras.optimizers.Adam())\n",
    "    lstm.fit(lstm_z, dataY, epochs=5, batch_size=256)\n",
    "    lstm_results = lstm.predict(lstm_z)\n",
    "\n",
    "    return lstm_results\n",
    "    \n",
    "    \n",
    "if __name__ == '__main__':\n",
    "    os.environ['TF_CPP_MIN_LOG_LEVEL'] = '2'\n",
    "    config = tf.compat.v1.ConfigProto()\n",
    "    config.gpu_options.allow_growth = True\n",
    "    session = tf.compat.v1.Session(config=config)\n",
    "\n",
    "    #---------------------------------사용자 설정 변수---------------------------------------\n",
    "    FILENAME = \"BTC_USDT.csv\"\n",
    "    Time_window = 8\n",
    "    latent_dim = 3\n",
    "    #-------------------------------------------------------------------------------------\n",
    "\n",
    "    #데이터 로딩\n",
    "    x_train, x_test= data_load_processing(FILENAME, Time_window=Time_window)\n",
    "\n",
    "    #VAE_model\n",
    "    input_shape = (1, 8, 54)\n",
    "    kernel_size = (2,4)\n",
    "    strides = (2,2)\n",
    "    padding = \"valid\"\n",
    "    encoder, decoder = vae_model(input_shape, latent_dim, kernel_size, strides, padding)\n",
    "\n",
    "    #VAE\n",
    "    vae = V.VAE(encoder, decoder)\n",
    "    vae.compile(optimizer=tf.keras.optimizers.Adam())\n",
    "    vae.fit(x_train, epochs=1, batch_size=128)\n",
    "\n",
    "    z_mean_, z_log_var_, latent_z = vae.encoder.predict(x_train)\n",
    "    #------------------------------------------------------------------------------------------\n",
    "    seq_length = 8\n",
    "    \n",
    "    lstm_z, dataY = lstm_preprocess(latent_z, seq_length)\n",
    "    \n",
    "    lstm_results = lstm_model(seq_length, latent_dim, lstm_z)\n",
    "\n",
    "    decoder_output = vae.decoder.predict(lstm_results)"
   ]
  },
  {
   "cell_type": "code",
   "execution_count": 15,
   "metadata": {
    "scrolled": true
   },
   "outputs": [
    {
     "data": {
      "text/plain": [
       "(157772, 3)"
      ]
     },
     "execution_count": 15,
     "metadata": {},
     "output_type": "execute_result"
    }
   ],
   "source": [
    "latent_z.shape"
   ]
  },
  {
   "cell_type": "code",
   "execution_count": 16,
   "metadata": {},
   "outputs": [],
   "source": [
    "decoded_latent_z = vae.decoder.predict(latent_z)"
   ]
  },
  {
   "cell_type": "code",
   "execution_count": 17,
   "metadata": {},
   "outputs": [
    {
     "data": {
      "text/plain": [
       "array([2.92028172e-01, 2.90334511e-01, 2.94325406e-01, 2.91690876e-01,\n",
       "       1.28034781e-02, 2.91970143e-01, 1.70846712e-02, 2.91319238e-01,\n",
       "       2.01296969e-02, 4.47492299e-01, 2.36533311e-01, 3.66674647e-01,\n",
       "       3.92146587e-01, 2.91061150e-01, 2.12365833e-02, 2.91134819e-01,\n",
       "       2.79011400e-02, 3.60360194e-01, 1.27683809e-01, 3.65558665e-01,\n",
       "       2.11723599e-01, 2.91124649e-01, 3.42660671e-02, 2.90319558e-01,\n",
       "       2.98881262e-02, 3.48278646e-01, 6.07620474e-02, 3.35166460e-01,\n",
       "       1.17714478e-01, 2.85898890e-01, 2.37780000e-02, 2.85868523e-01,\n",
       "       3.21074999e-02, 2.99450752e-01, 5.12985089e-02, 2.97449067e-01,\n",
       "       6.24664374e-02, 2.82898658e-01, 5.55299442e-02, 2.84263507e-01,\n",
       "       4.31056906e-02, 3.02565338e-01, 2.62291760e-02, 3.02324704e-01,\n",
       "       4.48243776e-02, 5.33293333e-01, 3.61499602e-02, 9.99928230e-01,\n",
       "       5.65686608e-01, 4.23772617e-04, 4.13801998e-01, 2.49842430e-01,\n",
       "       9.89829098e-01, 3.75898567e-02])"
      ]
     },
     "execution_count": 17,
     "metadata": {},
     "output_type": "execute_result"
    }
   ],
   "source": [
    "x_train[0][0][0]"
   ]
  },
  {
   "cell_type": "code",
   "execution_count": 18,
   "metadata": {},
   "outputs": [
    {
     "data": {
      "text/plain": [
       "array([0.4697462 , 0.46533424, 0.46264365, 0.4733061 , 0.02557664,\n",
       "       0.46049118, 0.04326943, 0.459072  , 0.04562262, 0.47607002,\n",
       "       0.22299135, 0.39032698, 0.35610285, 0.44361228, 0.0548588 ,\n",
       "       0.45651662, 0.06094082, 0.39741763, 0.11658681, 0.39166713,\n",
       "       0.19601147, 0.45313987, 0.06523179, 0.45492646, 0.07420598,\n",
       "       0.39229473, 0.06616436, 0.38756633, 0.11082893, 0.45245504,\n",
       "       0.08279014, 0.4342288 , 0.07797877, 0.31175783, 0.04195606,\n",
       "       0.3161421 , 0.06201148, 0.4365373 , 0.09397884, 0.45480105,\n",
       "       0.11531775, 0.30187708, 0.03229275, 0.3216901 , 0.04647939,\n",
       "       0.5410715 , 0.02583014, 0.9865462 , 0.583456  , 0.        ,\n",
       "       0.47923243, 0.49801818, 0.5026664 , 0.05862983], dtype=float32)"
      ]
     },
     "execution_count": 18,
     "metadata": {},
     "output_type": "execute_result"
    }
   ],
   "source": [
    "decoded_latent_z[0][0][0]"
   ]
  },
  {
   "cell_type": "code",
   "execution_count": 19,
   "metadata": {},
   "outputs": [
    {
     "data": {
      "text/plain": [
       "52.71626097927271"
      ]
     },
     "execution_count": 19,
     "metadata": {},
     "output_type": "execute_result"
    }
   ],
   "source": [
    "def MAPE(y_test, y_pred):\n",
    "    return np.mean(np.abs((y_test - y_pred) / y_test)) * 100 \n",
    "    \n",
    "MAPE(x_train[0][0][0], decoded_latent_z[0][0][0])"
   ]
  },
  {
   "cell_type": "code",
   "execution_count": 47,
   "metadata": {
    "scrolled": false
   },
   "outputs": [
    {
     "name": "stdout",
     "output_type": "stream",
     "text": [
      "Model: \"encoder\"\n",
      "__________________________________________________________________________________________________\n",
      "Layer (type)                    Output Shape         Param #     Connected to                     \n",
      "==================================================================================================\n",
      "input_44 (InputLayer)           [(None, 1, 8, 54)]   0                                            \n",
      "__________________________________________________________________________________________________\n",
      "conv1 (Conv2D)                  (None, 32, 4, 25)    416         input_44[0][0]                   \n",
      "__________________________________________________________________________________________________\n",
      "conv2 (Conv2D)                  (None, 64, 2, 10)    24640       conv1[0][0]                      \n",
      "__________________________________________________________________________________________________\n",
      "conv3 (Conv2D)                  (None, 128, 1, 3)    98432       conv2[0][0]                      \n",
      "__________________________________________________________________________________________________\n",
      "flatten_18 (Flatten)            (None, 384)          0           conv3[0][0]                      \n",
      "__________________________________________________________________________________________________\n",
      "dense_38 (Dense)                (None, 16)           6160        flatten_18[0][0]                 \n",
      "__________________________________________________________________________________________________\n",
      "z_mean (Dense)                  (None, 2)            34          dense_38[0][0]                   \n",
      "__________________________________________________________________________________________________\n",
      "z_log_var (Dense)               (None, 2)            34          dense_38[0][0]                   \n",
      "__________________________________________________________________________________________________\n",
      "tf.compat.v1.shape_36 (TFOpLamb (2,)                 0           z_mean[0][0]                     \n",
      "__________________________________________________________________________________________________\n",
      "tf.compat.v1.shape_37 (TFOpLamb (2,)                 0           z_mean[0][0]                     \n",
      "__________________________________________________________________________________________________\n",
      "tf.math.multiply_36 (TFOpLambda (None, 2)            0           z_log_var[0][0]                  \n",
      "__________________________________________________________________________________________________\n",
      "tf.__operators__.getitem_36 (Sl ()                   0           tf.compat.v1.shape_36[0][0]      \n",
      "__________________________________________________________________________________________________\n",
      "tf.__operators__.getitem_37 (Sl ()                   0           tf.compat.v1.shape_37[0][0]      \n",
      "__________________________________________________________________________________________________\n",
      "tf.math.exp_18 (TFOpLambda)     (None, 2)            0           tf.math.multiply_36[0][0]        \n",
      "__________________________________________________________________________________________________\n",
      "tf.random.normal_18 (TFOpLambda (None, None)         0           tf.__operators__.getitem_36[0][0]\n",
      "                                                                 tf.__operators__.getitem_37[0][0]\n",
      "__________________________________________________________________________________________________\n",
      "tf.math.multiply_37 (TFOpLambda (None, 2)            0           tf.math.exp_18[0][0]             \n",
      "                                                                 tf.random.normal_18[0][0]        \n",
      "__________________________________________________________________________________________________\n",
      "tf.__operators__.add_18 (TFOpLa (None, 2)            0           z_mean[0][0]                     \n",
      "                                                                 tf.math.multiply_37[0][0]        \n",
      "==================================================================================================\n",
      "Total params: 129,716\n",
      "Trainable params: 129,716\n",
      "Non-trainable params: 0\n",
      "__________________________________________________________________________________________________\n"
     ]
    },
    {
     "ename": "ValueError",
     "evalue": "in user code:\n\n    C:\\Users\\User\\AppData\\Roaming\\Python\\Python38\\site-packages\\tensorflow\\python\\keras\\engine\\training.py:805 train_function  *\n        return step_function(self, iterator)\n    C:\\Users\\User\\AppData\\Roaming\\Python\\Python38\\site-packages\\tensorflow\\python\\keras\\engine\\training.py:795 step_function  **\n        outputs = model.distribute_strategy.run(run_step, args=(data,))\n    C:\\Users\\User\\AppData\\Roaming\\Python\\Python38\\site-packages\\tensorflow\\python\\distribute\\distribute_lib.py:1259 run\n        return self._extended.call_for_each_replica(fn, args=args, kwargs=kwargs)\n    C:\\Users\\User\\AppData\\Roaming\\Python\\Python38\\site-packages\\tensorflow\\python\\distribute\\distribute_lib.py:2730 call_for_each_replica\n        return self._call_for_each_replica(fn, args, kwargs)\n    C:\\Users\\User\\AppData\\Roaming\\Python\\Python38\\site-packages\\tensorflow\\python\\distribute\\distribute_lib.py:3417 _call_for_each_replica\n        return fn(*args, **kwargs)\n    C:\\Users\\User\\AppData\\Roaming\\Python\\Python38\\site-packages\\tensorflow\\python\\keras\\engine\\training.py:788 run_step  **\n        outputs = model.train_step(data)\n    C:\\Users\\User\\Desktop\\trader_folder\\bit_project\\vae.py:29 train_step\n        tf.keras.losses.binary_crossentropy(data, reconstruction), axis=(1, 2)\n    C:\\Users\\User\\AppData\\Roaming\\Python\\Python38\\site-packages\\tensorflow\\python\\util\\dispatch.py:201 wrapper\n        return target(*args, **kwargs)\n    C:\\Users\\User\\AppData\\Roaming\\Python\\Python38\\site-packages\\tensorflow\\python\\keras\\losses.py:1608 binary_crossentropy\n        K.binary_crossentropy(y_true, y_pred, from_logits=from_logits), axis=-1)\n    C:\\Users\\User\\AppData\\Roaming\\Python\\Python38\\site-packages\\tensorflow\\python\\util\\dispatch.py:201 wrapper\n        return target(*args, **kwargs)\n    C:\\Users\\User\\AppData\\Roaming\\Python\\Python38\\site-packages\\tensorflow\\python\\keras\\backend.py:4979 binary_crossentropy\n        return nn.sigmoid_cross_entropy_with_logits(labels=target, logits=output)\n    C:\\Users\\User\\AppData\\Roaming\\Python\\Python38\\site-packages\\tensorflow\\python\\util\\dispatch.py:201 wrapper\n        return target(*args, **kwargs)\n    C:\\Users\\User\\AppData\\Roaming\\Python\\Python38\\site-packages\\tensorflow\\python\\ops\\nn_impl.py:173 sigmoid_cross_entropy_with_logits\n        raise ValueError(\"logits and labels must have the same shape (%s vs %s)\" %\n\n    ValueError: logits and labels must have the same shape ((None, 1, 8, 52) vs (None, 1, 8, 54))\n",
     "output_type": "error",
     "traceback": [
      "\u001b[1;31m---------------------------------------------------------------------------\u001b[0m",
      "\u001b[1;31mValueError\u001b[0m                                Traceback (most recent call last)",
      "\u001b[1;32m<ipython-input-47-e23ae58de67a>\u001b[0m in \u001b[0;36m<module>\u001b[1;34m\u001b[0m\n\u001b[0;32m     10\u001b[0m \u001b[0mvae\u001b[0m \u001b[1;33m=\u001b[0m \u001b[0mV\u001b[0m\u001b[1;33m.\u001b[0m\u001b[0mVAE\u001b[0m\u001b[1;33m(\u001b[0m\u001b[0mencoder\u001b[0m\u001b[1;33m,\u001b[0m \u001b[0mdecoder\u001b[0m\u001b[1;33m)\u001b[0m\u001b[1;33m\u001b[0m\u001b[1;33m\u001b[0m\u001b[0m\n\u001b[0;32m     11\u001b[0m \u001b[0mvae\u001b[0m\u001b[1;33m.\u001b[0m\u001b[0mcompile\u001b[0m\u001b[1;33m(\u001b[0m\u001b[0moptimizer\u001b[0m\u001b[1;33m=\u001b[0m\u001b[0mtf\u001b[0m\u001b[1;33m.\u001b[0m\u001b[0mkeras\u001b[0m\u001b[1;33m.\u001b[0m\u001b[0moptimizers\u001b[0m\u001b[1;33m.\u001b[0m\u001b[0mAdam\u001b[0m\u001b[1;33m(\u001b[0m\u001b[1;33m)\u001b[0m\u001b[1;33m)\u001b[0m\u001b[1;33m\u001b[0m\u001b[1;33m\u001b[0m\u001b[0m\n\u001b[1;32m---> 12\u001b[1;33m \u001b[0mvae\u001b[0m\u001b[1;33m.\u001b[0m\u001b[0mfit\u001b[0m\u001b[1;33m(\u001b[0m\u001b[0mx_train\u001b[0m\u001b[1;33m,\u001b[0m \u001b[0mepochs\u001b[0m\u001b[1;33m=\u001b[0m\u001b[1;36m1\u001b[0m\u001b[1;33m,\u001b[0m \u001b[0mbatch_size\u001b[0m\u001b[1;33m=\u001b[0m\u001b[1;36m128\u001b[0m\u001b[1;33m)\u001b[0m\u001b[1;33m\u001b[0m\u001b[1;33m\u001b[0m\u001b[0m\n\u001b[0m\u001b[0;32m     13\u001b[0m \u001b[1;33m\u001b[0m\u001b[0m\n\u001b[0;32m     14\u001b[0m \u001b[0mz_mean_\u001b[0m\u001b[1;33m,\u001b[0m \u001b[0mz_log_var_\u001b[0m\u001b[1;33m,\u001b[0m \u001b[0mlatent_z\u001b[0m \u001b[1;33m=\u001b[0m \u001b[0mvae\u001b[0m\u001b[1;33m.\u001b[0m\u001b[0mencoder\u001b[0m\u001b[1;33m.\u001b[0m\u001b[0mpredict\u001b[0m\u001b[1;33m(\u001b[0m\u001b[0mx_train\u001b[0m\u001b[1;33m)\u001b[0m\u001b[1;33m\u001b[0m\u001b[1;33m\u001b[0m\u001b[0m\n",
      "\u001b[1;32m~\\AppData\\Roaming\\Python\\Python38\\site-packages\\tensorflow\\python\\keras\\engine\\training.py\u001b[0m in \u001b[0;36mfit\u001b[1;34m(self, x, y, batch_size, epochs, verbose, callbacks, validation_split, validation_data, shuffle, class_weight, sample_weight, initial_epoch, steps_per_epoch, validation_steps, validation_batch_size, validation_freq, max_queue_size, workers, use_multiprocessing)\u001b[0m\n\u001b[0;32m   1098\u001b[0m                 _r=1):\n\u001b[0;32m   1099\u001b[0m               \u001b[0mcallbacks\u001b[0m\u001b[1;33m.\u001b[0m\u001b[0mon_train_batch_begin\u001b[0m\u001b[1;33m(\u001b[0m\u001b[0mstep\u001b[0m\u001b[1;33m)\u001b[0m\u001b[1;33m\u001b[0m\u001b[1;33m\u001b[0m\u001b[0m\n\u001b[1;32m-> 1100\u001b[1;33m               \u001b[0mtmp_logs\u001b[0m \u001b[1;33m=\u001b[0m \u001b[0mself\u001b[0m\u001b[1;33m.\u001b[0m\u001b[0mtrain_function\u001b[0m\u001b[1;33m(\u001b[0m\u001b[0miterator\u001b[0m\u001b[1;33m)\u001b[0m\u001b[1;33m\u001b[0m\u001b[1;33m\u001b[0m\u001b[0m\n\u001b[0m\u001b[0;32m   1101\u001b[0m               \u001b[1;32mif\u001b[0m \u001b[0mdata_handler\u001b[0m\u001b[1;33m.\u001b[0m\u001b[0mshould_sync\u001b[0m\u001b[1;33m:\u001b[0m\u001b[1;33m\u001b[0m\u001b[1;33m\u001b[0m\u001b[0m\n\u001b[0;32m   1102\u001b[0m                 \u001b[0mcontext\u001b[0m\u001b[1;33m.\u001b[0m\u001b[0masync_wait\u001b[0m\u001b[1;33m(\u001b[0m\u001b[1;33m)\u001b[0m\u001b[1;33m\u001b[0m\u001b[1;33m\u001b[0m\u001b[0m\n",
      "\u001b[1;32m~\\AppData\\Roaming\\Python\\Python38\\site-packages\\tensorflow\\python\\eager\\def_function.py\u001b[0m in \u001b[0;36m__call__\u001b[1;34m(self, *args, **kwds)\u001b[0m\n\u001b[0;32m    826\u001b[0m     \u001b[0mtracing_count\u001b[0m \u001b[1;33m=\u001b[0m \u001b[0mself\u001b[0m\u001b[1;33m.\u001b[0m\u001b[0mexperimental_get_tracing_count\u001b[0m\u001b[1;33m(\u001b[0m\u001b[1;33m)\u001b[0m\u001b[1;33m\u001b[0m\u001b[1;33m\u001b[0m\u001b[0m\n\u001b[0;32m    827\u001b[0m     \u001b[1;32mwith\u001b[0m \u001b[0mtrace\u001b[0m\u001b[1;33m.\u001b[0m\u001b[0mTrace\u001b[0m\u001b[1;33m(\u001b[0m\u001b[0mself\u001b[0m\u001b[1;33m.\u001b[0m\u001b[0m_name\u001b[0m\u001b[1;33m)\u001b[0m \u001b[1;32mas\u001b[0m \u001b[0mtm\u001b[0m\u001b[1;33m:\u001b[0m\u001b[1;33m\u001b[0m\u001b[1;33m\u001b[0m\u001b[0m\n\u001b[1;32m--> 828\u001b[1;33m       \u001b[0mresult\u001b[0m \u001b[1;33m=\u001b[0m \u001b[0mself\u001b[0m\u001b[1;33m.\u001b[0m\u001b[0m_call\u001b[0m\u001b[1;33m(\u001b[0m\u001b[1;33m*\u001b[0m\u001b[0margs\u001b[0m\u001b[1;33m,\u001b[0m \u001b[1;33m**\u001b[0m\u001b[0mkwds\u001b[0m\u001b[1;33m)\u001b[0m\u001b[1;33m\u001b[0m\u001b[1;33m\u001b[0m\u001b[0m\n\u001b[0m\u001b[0;32m    829\u001b[0m       \u001b[0mcompiler\u001b[0m \u001b[1;33m=\u001b[0m \u001b[1;34m\"xla\"\u001b[0m \u001b[1;32mif\u001b[0m \u001b[0mself\u001b[0m\u001b[1;33m.\u001b[0m\u001b[0m_experimental_compile\u001b[0m \u001b[1;32melse\u001b[0m \u001b[1;34m\"nonXla\"\u001b[0m\u001b[1;33m\u001b[0m\u001b[1;33m\u001b[0m\u001b[0m\n\u001b[0;32m    830\u001b[0m       \u001b[0mnew_tracing_count\u001b[0m \u001b[1;33m=\u001b[0m \u001b[0mself\u001b[0m\u001b[1;33m.\u001b[0m\u001b[0mexperimental_get_tracing_count\u001b[0m\u001b[1;33m(\u001b[0m\u001b[1;33m)\u001b[0m\u001b[1;33m\u001b[0m\u001b[1;33m\u001b[0m\u001b[0m\n",
      "\u001b[1;32m~\\AppData\\Roaming\\Python\\Python38\\site-packages\\tensorflow\\python\\eager\\def_function.py\u001b[0m in \u001b[0;36m_call\u001b[1;34m(self, *args, **kwds)\u001b[0m\n\u001b[0;32m    869\u001b[0m       \u001b[1;31m# This is the first call of __call__, so we have to initialize.\u001b[0m\u001b[1;33m\u001b[0m\u001b[1;33m\u001b[0m\u001b[1;33m\u001b[0m\u001b[0m\n\u001b[0;32m    870\u001b[0m       \u001b[0minitializers\u001b[0m \u001b[1;33m=\u001b[0m \u001b[1;33m[\u001b[0m\u001b[1;33m]\u001b[0m\u001b[1;33m\u001b[0m\u001b[1;33m\u001b[0m\u001b[0m\n\u001b[1;32m--> 871\u001b[1;33m       \u001b[0mself\u001b[0m\u001b[1;33m.\u001b[0m\u001b[0m_initialize\u001b[0m\u001b[1;33m(\u001b[0m\u001b[0margs\u001b[0m\u001b[1;33m,\u001b[0m \u001b[0mkwds\u001b[0m\u001b[1;33m,\u001b[0m \u001b[0madd_initializers_to\u001b[0m\u001b[1;33m=\u001b[0m\u001b[0minitializers\u001b[0m\u001b[1;33m)\u001b[0m\u001b[1;33m\u001b[0m\u001b[1;33m\u001b[0m\u001b[0m\n\u001b[0m\u001b[0;32m    872\u001b[0m     \u001b[1;32mfinally\u001b[0m\u001b[1;33m:\u001b[0m\u001b[1;33m\u001b[0m\u001b[1;33m\u001b[0m\u001b[0m\n\u001b[0;32m    873\u001b[0m       \u001b[1;31m# At this point we know that the initialization is complete (or less\u001b[0m\u001b[1;33m\u001b[0m\u001b[1;33m\u001b[0m\u001b[1;33m\u001b[0m\u001b[0m\n",
      "\u001b[1;32m~\\AppData\\Roaming\\Python\\Python38\\site-packages\\tensorflow\\python\\eager\\def_function.py\u001b[0m in \u001b[0;36m_initialize\u001b[1;34m(self, args, kwds, add_initializers_to)\u001b[0m\n\u001b[0;32m    723\u001b[0m     \u001b[0mself\u001b[0m\u001b[1;33m.\u001b[0m\u001b[0m_graph_deleter\u001b[0m \u001b[1;33m=\u001b[0m \u001b[0mFunctionDeleter\u001b[0m\u001b[1;33m(\u001b[0m\u001b[0mself\u001b[0m\u001b[1;33m.\u001b[0m\u001b[0m_lifted_initializer_graph\u001b[0m\u001b[1;33m)\u001b[0m\u001b[1;33m\u001b[0m\u001b[1;33m\u001b[0m\u001b[0m\n\u001b[0;32m    724\u001b[0m     self._concrete_stateful_fn = (\n\u001b[1;32m--> 725\u001b[1;33m         self._stateful_fn._get_concrete_function_internal_garbage_collected(  # pylint: disable=protected-access\n\u001b[0m\u001b[0;32m    726\u001b[0m             *args, **kwds))\n\u001b[0;32m    727\u001b[0m \u001b[1;33m\u001b[0m\u001b[0m\n",
      "\u001b[1;32m~\\AppData\\Roaming\\Python\\Python38\\site-packages\\tensorflow\\python\\eager\\function.py\u001b[0m in \u001b[0;36m_get_concrete_function_internal_garbage_collected\u001b[1;34m(self, *args, **kwargs)\u001b[0m\n\u001b[0;32m   2967\u001b[0m       \u001b[0margs\u001b[0m\u001b[1;33m,\u001b[0m \u001b[0mkwargs\u001b[0m \u001b[1;33m=\u001b[0m \u001b[1;32mNone\u001b[0m\u001b[1;33m,\u001b[0m \u001b[1;32mNone\u001b[0m\u001b[1;33m\u001b[0m\u001b[1;33m\u001b[0m\u001b[0m\n\u001b[0;32m   2968\u001b[0m     \u001b[1;32mwith\u001b[0m \u001b[0mself\u001b[0m\u001b[1;33m.\u001b[0m\u001b[0m_lock\u001b[0m\u001b[1;33m:\u001b[0m\u001b[1;33m\u001b[0m\u001b[1;33m\u001b[0m\u001b[0m\n\u001b[1;32m-> 2969\u001b[1;33m       \u001b[0mgraph_function\u001b[0m\u001b[1;33m,\u001b[0m \u001b[0m_\u001b[0m \u001b[1;33m=\u001b[0m \u001b[0mself\u001b[0m\u001b[1;33m.\u001b[0m\u001b[0m_maybe_define_function\u001b[0m\u001b[1;33m(\u001b[0m\u001b[0margs\u001b[0m\u001b[1;33m,\u001b[0m \u001b[0mkwargs\u001b[0m\u001b[1;33m)\u001b[0m\u001b[1;33m\u001b[0m\u001b[1;33m\u001b[0m\u001b[0m\n\u001b[0m\u001b[0;32m   2970\u001b[0m     \u001b[1;32mreturn\u001b[0m \u001b[0mgraph_function\u001b[0m\u001b[1;33m\u001b[0m\u001b[1;33m\u001b[0m\u001b[0m\n\u001b[0;32m   2971\u001b[0m \u001b[1;33m\u001b[0m\u001b[0m\n",
      "\u001b[1;32m~\\AppData\\Roaming\\Python\\Python38\\site-packages\\tensorflow\\python\\eager\\function.py\u001b[0m in \u001b[0;36m_maybe_define_function\u001b[1;34m(self, args, kwargs)\u001b[0m\n\u001b[0;32m   3359\u001b[0m \u001b[1;33m\u001b[0m\u001b[0m\n\u001b[0;32m   3360\u001b[0m           \u001b[0mself\u001b[0m\u001b[1;33m.\u001b[0m\u001b[0m_function_cache\u001b[0m\u001b[1;33m.\u001b[0m\u001b[0mmissed\u001b[0m\u001b[1;33m.\u001b[0m\u001b[0madd\u001b[0m\u001b[1;33m(\u001b[0m\u001b[0mcall_context_key\u001b[0m\u001b[1;33m)\u001b[0m\u001b[1;33m\u001b[0m\u001b[1;33m\u001b[0m\u001b[0m\n\u001b[1;32m-> 3361\u001b[1;33m           \u001b[0mgraph_function\u001b[0m \u001b[1;33m=\u001b[0m \u001b[0mself\u001b[0m\u001b[1;33m.\u001b[0m\u001b[0m_create_graph_function\u001b[0m\u001b[1;33m(\u001b[0m\u001b[0margs\u001b[0m\u001b[1;33m,\u001b[0m \u001b[0mkwargs\u001b[0m\u001b[1;33m)\u001b[0m\u001b[1;33m\u001b[0m\u001b[1;33m\u001b[0m\u001b[0m\n\u001b[0m\u001b[0;32m   3362\u001b[0m           \u001b[0mself\u001b[0m\u001b[1;33m.\u001b[0m\u001b[0m_function_cache\u001b[0m\u001b[1;33m.\u001b[0m\u001b[0mprimary\u001b[0m\u001b[1;33m[\u001b[0m\u001b[0mcache_key\u001b[0m\u001b[1;33m]\u001b[0m \u001b[1;33m=\u001b[0m \u001b[0mgraph_function\u001b[0m\u001b[1;33m\u001b[0m\u001b[1;33m\u001b[0m\u001b[0m\n\u001b[0;32m   3363\u001b[0m \u001b[1;33m\u001b[0m\u001b[0m\n",
      "\u001b[1;32m~\\AppData\\Roaming\\Python\\Python38\\site-packages\\tensorflow\\python\\eager\\function.py\u001b[0m in \u001b[0;36m_create_graph_function\u001b[1;34m(self, args, kwargs, override_flat_arg_shapes)\u001b[0m\n\u001b[0;32m   3194\u001b[0m     \u001b[0marg_names\u001b[0m \u001b[1;33m=\u001b[0m \u001b[0mbase_arg_names\u001b[0m \u001b[1;33m+\u001b[0m \u001b[0mmissing_arg_names\u001b[0m\u001b[1;33m\u001b[0m\u001b[1;33m\u001b[0m\u001b[0m\n\u001b[0;32m   3195\u001b[0m     graph_function = ConcreteFunction(\n\u001b[1;32m-> 3196\u001b[1;33m         func_graph_module.func_graph_from_py_func(\n\u001b[0m\u001b[0;32m   3197\u001b[0m             \u001b[0mself\u001b[0m\u001b[1;33m.\u001b[0m\u001b[0m_name\u001b[0m\u001b[1;33m,\u001b[0m\u001b[1;33m\u001b[0m\u001b[1;33m\u001b[0m\u001b[0m\n\u001b[0;32m   3198\u001b[0m             \u001b[0mself\u001b[0m\u001b[1;33m.\u001b[0m\u001b[0m_python_function\u001b[0m\u001b[1;33m,\u001b[0m\u001b[1;33m\u001b[0m\u001b[1;33m\u001b[0m\u001b[0m\n",
      "\u001b[1;32m~\\AppData\\Roaming\\Python\\Python38\\site-packages\\tensorflow\\python\\framework\\func_graph.py\u001b[0m in \u001b[0;36mfunc_graph_from_py_func\u001b[1;34m(name, python_func, args, kwargs, signature, func_graph, autograph, autograph_options, add_control_dependencies, arg_names, op_return_value, collections, capture_by_value, override_flat_arg_shapes)\u001b[0m\n\u001b[0;32m    988\u001b[0m         \u001b[0m_\u001b[0m\u001b[1;33m,\u001b[0m \u001b[0moriginal_func\u001b[0m \u001b[1;33m=\u001b[0m \u001b[0mtf_decorator\u001b[0m\u001b[1;33m.\u001b[0m\u001b[0munwrap\u001b[0m\u001b[1;33m(\u001b[0m\u001b[0mpython_func\u001b[0m\u001b[1;33m)\u001b[0m\u001b[1;33m\u001b[0m\u001b[1;33m\u001b[0m\u001b[0m\n\u001b[0;32m    989\u001b[0m \u001b[1;33m\u001b[0m\u001b[0m\n\u001b[1;32m--> 990\u001b[1;33m       \u001b[0mfunc_outputs\u001b[0m \u001b[1;33m=\u001b[0m \u001b[0mpython_func\u001b[0m\u001b[1;33m(\u001b[0m\u001b[1;33m*\u001b[0m\u001b[0mfunc_args\u001b[0m\u001b[1;33m,\u001b[0m \u001b[1;33m**\u001b[0m\u001b[0mfunc_kwargs\u001b[0m\u001b[1;33m)\u001b[0m\u001b[1;33m\u001b[0m\u001b[1;33m\u001b[0m\u001b[0m\n\u001b[0m\u001b[0;32m    991\u001b[0m \u001b[1;33m\u001b[0m\u001b[0m\n\u001b[0;32m    992\u001b[0m       \u001b[1;31m# invariant: `func_outputs` contains only Tensors, CompositeTensors,\u001b[0m\u001b[1;33m\u001b[0m\u001b[1;33m\u001b[0m\u001b[1;33m\u001b[0m\u001b[0m\n",
      "\u001b[1;32m~\\AppData\\Roaming\\Python\\Python38\\site-packages\\tensorflow\\python\\eager\\def_function.py\u001b[0m in \u001b[0;36mwrapped_fn\u001b[1;34m(*args, **kwds)\u001b[0m\n\u001b[0;32m    632\u001b[0m             \u001b[0mxla_context\u001b[0m\u001b[1;33m.\u001b[0m\u001b[0mExit\u001b[0m\u001b[1;33m(\u001b[0m\u001b[1;33m)\u001b[0m\u001b[1;33m\u001b[0m\u001b[1;33m\u001b[0m\u001b[0m\n\u001b[0;32m    633\u001b[0m         \u001b[1;32melse\u001b[0m\u001b[1;33m:\u001b[0m\u001b[1;33m\u001b[0m\u001b[1;33m\u001b[0m\u001b[0m\n\u001b[1;32m--> 634\u001b[1;33m           \u001b[0mout\u001b[0m \u001b[1;33m=\u001b[0m \u001b[0mweak_wrapped_fn\u001b[0m\u001b[1;33m(\u001b[0m\u001b[1;33m)\u001b[0m\u001b[1;33m.\u001b[0m\u001b[0m__wrapped__\u001b[0m\u001b[1;33m(\u001b[0m\u001b[1;33m*\u001b[0m\u001b[0margs\u001b[0m\u001b[1;33m,\u001b[0m \u001b[1;33m**\u001b[0m\u001b[0mkwds\u001b[0m\u001b[1;33m)\u001b[0m\u001b[1;33m\u001b[0m\u001b[1;33m\u001b[0m\u001b[0m\n\u001b[0m\u001b[0;32m    635\u001b[0m         \u001b[1;32mreturn\u001b[0m \u001b[0mout\u001b[0m\u001b[1;33m\u001b[0m\u001b[1;33m\u001b[0m\u001b[0m\n\u001b[0;32m    636\u001b[0m \u001b[1;33m\u001b[0m\u001b[0m\n",
      "\u001b[1;32m~\\AppData\\Roaming\\Python\\Python38\\site-packages\\tensorflow\\python\\framework\\func_graph.py\u001b[0m in \u001b[0;36mwrapper\u001b[1;34m(*args, **kwargs)\u001b[0m\n\u001b[0;32m    975\u001b[0m           \u001b[1;32mexcept\u001b[0m \u001b[0mException\u001b[0m \u001b[1;32mas\u001b[0m \u001b[0me\u001b[0m\u001b[1;33m:\u001b[0m  \u001b[1;31m# pylint:disable=broad-except\u001b[0m\u001b[1;33m\u001b[0m\u001b[1;33m\u001b[0m\u001b[0m\n\u001b[0;32m    976\u001b[0m             \u001b[1;32mif\u001b[0m \u001b[0mhasattr\u001b[0m\u001b[1;33m(\u001b[0m\u001b[0me\u001b[0m\u001b[1;33m,\u001b[0m \u001b[1;34m\"ag_error_metadata\"\u001b[0m\u001b[1;33m)\u001b[0m\u001b[1;33m:\u001b[0m\u001b[1;33m\u001b[0m\u001b[1;33m\u001b[0m\u001b[0m\n\u001b[1;32m--> 977\u001b[1;33m               \u001b[1;32mraise\u001b[0m \u001b[0me\u001b[0m\u001b[1;33m.\u001b[0m\u001b[0mag_error_metadata\u001b[0m\u001b[1;33m.\u001b[0m\u001b[0mto_exception\u001b[0m\u001b[1;33m(\u001b[0m\u001b[0me\u001b[0m\u001b[1;33m)\u001b[0m\u001b[1;33m\u001b[0m\u001b[1;33m\u001b[0m\u001b[0m\n\u001b[0m\u001b[0;32m    978\u001b[0m             \u001b[1;32melse\u001b[0m\u001b[1;33m:\u001b[0m\u001b[1;33m\u001b[0m\u001b[1;33m\u001b[0m\u001b[0m\n\u001b[0;32m    979\u001b[0m               \u001b[1;32mraise\u001b[0m\u001b[1;33m\u001b[0m\u001b[1;33m\u001b[0m\u001b[0m\n",
      "\u001b[1;31mValueError\u001b[0m: in user code:\n\n    C:\\Users\\User\\AppData\\Roaming\\Python\\Python38\\site-packages\\tensorflow\\python\\keras\\engine\\training.py:805 train_function  *\n        return step_function(self, iterator)\n    C:\\Users\\User\\AppData\\Roaming\\Python\\Python38\\site-packages\\tensorflow\\python\\keras\\engine\\training.py:795 step_function  **\n        outputs = model.distribute_strategy.run(run_step, args=(data,))\n    C:\\Users\\User\\AppData\\Roaming\\Python\\Python38\\site-packages\\tensorflow\\python\\distribute\\distribute_lib.py:1259 run\n        return self._extended.call_for_each_replica(fn, args=args, kwargs=kwargs)\n    C:\\Users\\User\\AppData\\Roaming\\Python\\Python38\\site-packages\\tensorflow\\python\\distribute\\distribute_lib.py:2730 call_for_each_replica\n        return self._call_for_each_replica(fn, args, kwargs)\n    C:\\Users\\User\\AppData\\Roaming\\Python\\Python38\\site-packages\\tensorflow\\python\\distribute\\distribute_lib.py:3417 _call_for_each_replica\n        return fn(*args, **kwargs)\n    C:\\Users\\User\\AppData\\Roaming\\Python\\Python38\\site-packages\\tensorflow\\python\\keras\\engine\\training.py:788 run_step  **\n        outputs = model.train_step(data)\n    C:\\Users\\User\\Desktop\\trader_folder\\bit_project\\vae.py:29 train_step\n        tf.keras.losses.binary_crossentropy(data, reconstruction), axis=(1, 2)\n    C:\\Users\\User\\AppData\\Roaming\\Python\\Python38\\site-packages\\tensorflow\\python\\util\\dispatch.py:201 wrapper\n        return target(*args, **kwargs)\n    C:\\Users\\User\\AppData\\Roaming\\Python\\Python38\\site-packages\\tensorflow\\python\\keras\\losses.py:1608 binary_crossentropy\n        K.binary_crossentropy(y_true, y_pred, from_logits=from_logits), axis=-1)\n    C:\\Users\\User\\AppData\\Roaming\\Python\\Python38\\site-packages\\tensorflow\\python\\util\\dispatch.py:201 wrapper\n        return target(*args, **kwargs)\n    C:\\Users\\User\\AppData\\Roaming\\Python\\Python38\\site-packages\\tensorflow\\python\\keras\\backend.py:4979 binary_crossentropy\n        return nn.sigmoid_cross_entropy_with_logits(labels=target, logits=output)\n    C:\\Users\\User\\AppData\\Roaming\\Python\\Python38\\site-packages\\tensorflow\\python\\util\\dispatch.py:201 wrapper\n        return target(*args, **kwargs)\n    C:\\Users\\User\\AppData\\Roaming\\Python\\Python38\\site-packages\\tensorflow\\python\\ops\\nn_impl.py:173 sigmoid_cross_entropy_with_logits\n        raise ValueError(\"logits and labels must have the same shape (%s vs %s)\" %\n\n    ValueError: logits and labels must have the same shape ((None, 1, 8, 52) vs (None, 1, 8, 54))\n"
     ]
    }
   ],
   "source": [
    "#VAE_model\n",
    "input_shape = (1, 8, 54)\n",
    "kernel_size = (2,4)\n",
    "strides = (2,2)\n",
    "padding = \"valid\"\n",
    "encoder, decoder = vae_model(input_shape, latent_dim, kernel_size, strides, padding)\n",
    "encoder.summary()\n",
    "\n",
    "#VAE\n",
    "vae = V.VAE(encoder, decoder)\n",
    "vae.compile(optimizer=tf.keras.optimizers.Adam())\n",
    "vae.fit(x_train, epochs=1, batch_size=128)\n",
    "\n",
    "z_mean_, z_log_var_, latent_z = vae.encoder.predict(x_train)\n",
    "\n",
    "decoded_latent_z = vae.decoder.predict(latent_z)\n",
    "\n",
    "def MAPE(y_test, y_pred):\n",
    "    return np.mean(np.abs((y_test - y_pred) / y_test)) * 100 \n",
    "    \n",
    "MAPE(x_train[0][0][0], decoded_latent_z[0][0][0])"
   ]
  },
  {
   "cell_type": "code",
   "execution_count": 46,
   "metadata": {},
   "outputs": [
    {
     "name": "stdout",
     "output_type": "stream",
     "text": [
      "Model: \"decoder\"\n",
      "_________________________________________________________________\n",
      "Layer (type)                 Output Shape              Param #   \n",
      "=================================================================\n",
      "input_43 (InputLayer)        [(None, 2)]               0         \n",
      "_________________________________________________________________\n",
      "dense_37 (Dense)             (None, 512)               1536      \n",
      "_________________________________________________________________\n",
      "reshape_17 (Reshape)         (None, 128, 1, 4)         0         \n",
      "_________________________________________________________________\n",
      "conv2d_transpose_51 (Conv2DT (None, 64, 2, 11)         81984     \n",
      "_________________________________________________________________\n",
      "conv2d_transpose_52 (Conv2DT (None, 32, 4, 25)         20512     \n",
      "_________________________________________________________________\n",
      "conv2d_transpose_53 (Conv2DT (None, 1, 8, 53)          321       \n",
      "=================================================================\n",
      "Total params: 104,353\n",
      "Trainable params: 104,353\n",
      "Non-trainable params: 0\n",
      "_________________________________________________________________\n"
     ]
    }
   ],
   "source": [
    "decoder.summary()"
   ]
  },
  {
   "cell_type": "code",
   "execution_count": 2,
   "metadata": {
    "scrolled": true
   },
   "outputs": [
    {
     "data": {
      "text/plain": [
       "array([[[[0.29202817, 0.29033451, 0.29432541, ..., 0.24984243,\n",
       "          0.9898291 , 0.03758986],\n",
       "         [0.29179521, 0.28975501, 0.2896421 , ..., 0.23856524,\n",
       "          0.98941222, 0.03773672],\n",
       "         [0.28779247, 0.28632038, 0.2896162 , ..., 0.26149706,\n",
       "          0.98955855, 0.04105991],\n",
       "         ...,\n",
       "         [0.28733831, 0.2855053 , 0.28986814, ..., 0.24248091,\n",
       "          0.98935997, 0.03957154],\n",
       "         [0.28755951, 0.28550766, 0.29008947, ..., 0.25108924,\n",
       "          0.98928226, 0.03705845],\n",
       "         [0.28828663, 0.28737102, 0.29037909, ..., 0.36926206,\n",
       "          0.98947052, 0.03338668]]],\n",
       "\n",
       "\n",
       "       [[[0.29179521, 0.28975501, 0.2896421 , ..., 0.23856524,\n",
       "          0.98941222, 0.03773672],\n",
       "         [0.28779247, 0.28632038, 0.2896162 , ..., 0.26149706,\n",
       "          0.98955855, 0.04105991],\n",
       "         [0.28786306, 0.28551237, 0.28979044, ..., 0.16087802,\n",
       "          0.98941098, 0.04397803],\n",
       "         ...,\n",
       "         [0.28755951, 0.28550766, 0.29008947, ..., 0.25108924,\n",
       "          0.98928226, 0.03705845],\n",
       "         [0.28828663, 0.28737102, 0.29037909, ..., 0.36926206,\n",
       "          0.98947052, 0.03338668],\n",
       "         [0.28850783, 0.28739694, 0.29103838, ..., 0.38706945,\n",
       "          0.9896565 , 0.03011063]]],\n",
       "\n",
       "\n",
       "       [[[0.28779247, 0.28632038, 0.2896162 , ..., 0.26149706,\n",
       "          0.98955855, 0.04105991],\n",
       "         [0.28786306, 0.28551237, 0.28979044, ..., 0.16087802,\n",
       "          0.98941098, 0.04397803],\n",
       "         [0.28826781, 0.28550766, 0.28985166, ..., 0.15891313,\n",
       "          0.98928991, 0.04544419],\n",
       "         ...,\n",
       "         [0.28828663, 0.28737102, 0.29037909, ..., 0.36926206,\n",
       "          0.98947052, 0.03338668],\n",
       "         [0.28850783, 0.28739694, 0.29103838, ..., 0.38706945,\n",
       "          0.9896565 , 0.03011063],\n",
       "         [0.29049626, 0.28798587, 0.29126678, ..., 0.43158694,\n",
       "          0.98978216, 0.02864493]]],\n",
       "\n",
       "\n",
       "       ...,\n",
       "\n",
       "\n",
       "       [[[0.38356641, 0.38232038, 0.38584648, ..., 0.41355175,\n",
       "          0.05151079, 0.08425376],\n",
       "         [0.3844818 , 0.38410836, 0.38707087, ..., 0.5247735 ,\n",
       "          0.05177029, 0.0782818 ],\n",
       "         [0.38618784, 0.38435571, 0.38850954, ..., 0.49722929,\n",
       "          0.05240376, 0.0782818 ],\n",
       "         ...,\n",
       "         [0.3889434 , 0.38825677, 0.3910996 , ..., 0.63925591,\n",
       "          0.05379993, 0.04842716],\n",
       "         [0.38945404, 0.38831331, 0.39204615, ..., 0.70679012,\n",
       "          0.05434614, 0.04243829],\n",
       "         [0.39039531, 0.38778563, 0.39157994, ..., 0.67775399,\n",
       "          0.05383995, 0.04992271]]],\n",
       "\n",
       "\n",
       "       [[[0.3844818 , 0.38410836, 0.38707087, ..., 0.5247735 ,\n",
       "          0.05177029, 0.0782818 ],\n",
       "         [0.38618784, 0.38435571, 0.38850954, ..., 0.49722929,\n",
       "          0.05240376, 0.0782818 ],\n",
       "         [0.38721853, 0.38586572, 0.38944196, ..., 0.50007446,\n",
       "          0.05301231, 0.0782818 ],\n",
       "         ...,\n",
       "         [0.38945404, 0.38831331, 0.39204615, ..., 0.70679012,\n",
       "          0.05434614, 0.04243829],\n",
       "         [0.39039531, 0.38778563, 0.39157994, ..., 0.67775399,\n",
       "          0.05383995, 0.04992271],\n",
       "         [0.38926343, 0.3883934 , 0.39185543, ..., 0.68519135,\n",
       "          0.05395437, 0.04992271]]],\n",
       "\n",
       "\n",
       "       [[[0.38618784, 0.38435571, 0.38850954, ..., 0.49722929,\n",
       "          0.05240376, 0.0782818 ],\n",
       "         [0.38721853, 0.38586572, 0.38944196, ..., 0.50007446,\n",
       "          0.05301231, 0.0782818 ],\n",
       "         [0.38827275, 0.38583039, 0.39039322, ..., 0.63358644,\n",
       "          0.05326968, 0.06853623],\n",
       "         ...,\n",
       "         [0.39039531, 0.38778563, 0.39157994, ..., 0.67775399,\n",
       "          0.05383995, 0.04992271],\n",
       "         [0.38926343, 0.3883934 , 0.39185543, ..., 0.68519135,\n",
       "          0.05395437, 0.04992271],\n",
       "         [0.38992468, 0.38751472, 0.39185307, ..., 0.62026002,\n",
       "          0.05299421, 0.05234552]]]])"
      ]
     },
     "execution_count": 2,
     "metadata": {},
     "output_type": "execute_result"
    }
   ],
   "source": [
    "x_train"
   ]
  },
  {
   "cell_type": "code",
   "execution_count": 6,
   "metadata": {
    "scrolled": true
   },
   "outputs": [],
   "source": [
    "decoded_latent_z = vae.decoder.predict(latent_z)"
   ]
  },
  {
   "cell_type": "code",
   "execution_count": 4,
   "metadata": {
    "scrolled": true
   },
   "outputs": [
    {
     "data": {
      "text/plain": [
       "array([[[[0.42212987, 0.41830298, 0.42025995, ..., 0.48775578,\n",
       "          0.47784787, 0.04895516],\n",
       "         [0.42028517, 0.41765738, 0.4194188 , ..., 0.4932936 ,\n",
       "          0.47851002, 0.04948027],\n",
       "         [0.42274404, 0.41937497, 0.42343286, ..., 0.4874905 ,\n",
       "          0.47792765, 0.04955728],\n",
       "         ...,\n",
       "         [0.42161852, 0.42079133, 0.4182538 , ..., 0.49036297,\n",
       "          0.4767546 , 0.05024262],\n",
       "         [0.42297825, 0.41901863, 0.42302048, ..., 0.4868034 ,\n",
       "          0.47816405, 0.05073044],\n",
       "         [0.42358723, 0.41765776, 0.42346552, ..., 0.49240515,\n",
       "          0.47860187, 0.05065444]]],\n",
       "\n",
       "\n",
       "       [[[0.42212987, 0.41830298, 0.42025995, ..., 0.48775578,\n",
       "          0.47784787, 0.04895516],\n",
       "         [0.42028517, 0.41765738, 0.4194188 , ..., 0.4932936 ,\n",
       "          0.47851002, 0.04948027],\n",
       "         [0.42274404, 0.41937497, 0.42343286, ..., 0.4874905 ,\n",
       "          0.47792765, 0.04955728],\n",
       "         ...,\n",
       "         [0.42161852, 0.42079133, 0.4182538 , ..., 0.49036297,\n",
       "          0.4767546 , 0.05024262],\n",
       "         [0.42297825, 0.41901863, 0.42302048, ..., 0.4868034 ,\n",
       "          0.47816405, 0.05073044],\n",
       "         [0.42358723, 0.41765776, 0.42346552, ..., 0.49240515,\n",
       "          0.47860187, 0.05065444]]],\n",
       "\n",
       "\n",
       "       [[[0.42212987, 0.41830298, 0.42025995, ..., 0.48775578,\n",
       "          0.47784787, 0.04895516],\n",
       "         [0.42028517, 0.41765738, 0.4194188 , ..., 0.4932936 ,\n",
       "          0.47851002, 0.04948027],\n",
       "         [0.42274404, 0.41937497, 0.42343286, ..., 0.4874905 ,\n",
       "          0.47792765, 0.04955728],\n",
       "         ...,\n",
       "         [0.42161852, 0.42079133, 0.4182538 , ..., 0.49036297,\n",
       "          0.4767546 , 0.05024262],\n",
       "         [0.42297825, 0.41901863, 0.42302048, ..., 0.4868034 ,\n",
       "          0.47816405, 0.05073044],\n",
       "         [0.42358723, 0.41765776, 0.42346552, ..., 0.49240515,\n",
       "          0.47860187, 0.05065444]]],\n",
       "\n",
       "\n",
       "       ...,\n",
       "\n",
       "\n",
       "       [[[0.42212993, 0.41830298, 0.42025992, ..., 0.48775572,\n",
       "          0.47784793, 0.04895516],\n",
       "         [0.42028517, 0.41765738, 0.41941878, ..., 0.49329373,\n",
       "          0.47851002, 0.04948027],\n",
       "         [0.42274404, 0.41937497, 0.42343277, ..., 0.48749062,\n",
       "          0.47792768, 0.04955729],\n",
       "         ...,\n",
       "         [0.42161852, 0.42079133, 0.41825378, ..., 0.49036297,\n",
       "          0.4767546 , 0.05024264],\n",
       "         [0.42297825, 0.4190187 , 0.42302045, ..., 0.48680335,\n",
       "          0.47816405, 0.05073044],\n",
       "         [0.42358732, 0.41765776, 0.42346552, ..., 0.49240515,\n",
       "          0.47860187, 0.05065446]]],\n",
       "\n",
       "\n",
       "       [[[0.42212993, 0.41830298, 0.42025992, ..., 0.48775572,\n",
       "          0.47784793, 0.04895516],\n",
       "         [0.42028517, 0.41765738, 0.41941878, ..., 0.49329373,\n",
       "          0.47851002, 0.04948027],\n",
       "         [0.42274404, 0.41937497, 0.42343277, ..., 0.48749062,\n",
       "          0.47792768, 0.04955729],\n",
       "         ...,\n",
       "         [0.42161852, 0.42079133, 0.41825378, ..., 0.49036297,\n",
       "          0.4767546 , 0.05024264],\n",
       "         [0.42297825, 0.4190187 , 0.42302045, ..., 0.48680335,\n",
       "          0.47816405, 0.05073044],\n",
       "         [0.42358732, 0.41765776, 0.42346552, ..., 0.49240515,\n",
       "          0.47860187, 0.05065446]]],\n",
       "\n",
       "\n",
       "       [[[0.42212993, 0.41830298, 0.42025992, ..., 0.48775572,\n",
       "          0.47784793, 0.04895516],\n",
       "         [0.42028517, 0.41765738, 0.41941878, ..., 0.49329373,\n",
       "          0.47851002, 0.04948027],\n",
       "         [0.42274404, 0.41937497, 0.42343277, ..., 0.48749062,\n",
       "          0.47792768, 0.04955729],\n",
       "         ...,\n",
       "         [0.42161852, 0.42079133, 0.41825378, ..., 0.49036297,\n",
       "          0.4767546 , 0.05024264],\n",
       "         [0.42297825, 0.4190187 , 0.42302045, ..., 0.48680335,\n",
       "          0.47816405, 0.05073044],\n",
       "         [0.42358732, 0.41765776, 0.42346552, ..., 0.49240515,\n",
       "          0.47860187, 0.05065446]]]], dtype=float32)"
      ]
     },
     "execution_count": 4,
     "metadata": {},
     "output_type": "execute_result"
    }
   ],
   "source": [
    "decoded_latent_z"
   ]
  },
  {
   "cell_type": "code",
   "execution_count": 15,
   "metadata": {},
   "outputs": [
    {
     "data": {
      "text/plain": [
       "array([2.92028172e-01, 2.90334511e-01, 2.94325406e-01, 2.91690876e-01,\n",
       "       1.28034781e-02, 2.91970143e-01, 1.70846712e-02, 2.91319238e-01,\n",
       "       2.01296969e-02, 4.47492299e-01, 2.36533311e-01, 3.66674647e-01,\n",
       "       3.92146587e-01, 2.91061150e-01, 2.12365833e-02, 2.91134819e-01,\n",
       "       2.79011400e-02, 3.60360194e-01, 1.27683809e-01, 3.65558665e-01,\n",
       "       2.11723599e-01, 2.91124649e-01, 3.42660671e-02, 2.90319558e-01,\n",
       "       2.98881262e-02, 3.48278646e-01, 6.07620474e-02, 3.35166460e-01,\n",
       "       1.17714478e-01, 2.85898890e-01, 2.37780000e-02, 2.85868523e-01,\n",
       "       3.21074999e-02, 2.99450752e-01, 5.12985089e-02, 2.97449067e-01,\n",
       "       6.24664374e-02, 2.82898658e-01, 5.55299442e-02, 2.84263507e-01,\n",
       "       4.31056906e-02, 3.02565338e-01, 2.62291760e-02, 3.02324704e-01,\n",
       "       4.48243776e-02, 5.33293333e-01, 3.61499602e-02, 9.99928230e-01,\n",
       "       5.65686608e-01, 4.23772617e-04, 4.13801998e-01, 2.49842430e-01,\n",
       "       9.89829098e-01, 3.75898567e-02])"
      ]
     },
     "execution_count": 15,
     "metadata": {},
     "output_type": "execute_result"
    }
   ],
   "source": [
    "x_train[0][0][0]"
   ]
  },
  {
   "cell_type": "code",
   "execution_count": 16,
   "metadata": {},
   "outputs": [
    {
     "data": {
      "text/plain": [
       "array([4.2266017e-01, 4.1910651e-01, 4.2137834e-01, 4.1884026e-01,\n",
       "       2.2563705e-02, 4.0976927e-01, 3.4648228e-02, 3.9964333e-01,\n",
       "       4.1503254e-02, 4.4699097e-01, 2.1279044e-01, 3.7215990e-01,\n",
       "       3.2540226e-01, 4.0850085e-01, 4.4138357e-02, 4.0126529e-01,\n",
       "       5.6429986e-02, 3.6651522e-01, 1.1869589e-01, 3.7555310e-01,\n",
       "       1.8580799e-01, 4.0370101e-01, 5.9828606e-02, 4.0133244e-01,\n",
       "       6.1059427e-02, 3.6953765e-01, 6.7552850e-02, 3.4580654e-01,\n",
       "       1.0494846e-01, 3.9960480e-01, 6.9483466e-02, 3.9598104e-01,\n",
       "       7.5246632e-02, 3.0019993e-01, 4.1288666e-02, 2.9332805e-01,\n",
       "       5.5803001e-02, 4.0018663e-01, 9.5556520e-02, 3.9629942e-01,\n",
       "       9.8795488e-02, 2.9242331e-01, 3.1640388e-02, 2.9613435e-01,\n",
       "       4.2429965e-02, 5.0648785e-01, 2.2149986e-02, 9.6365142e-01,\n",
       "       5.7560956e-01, 4.6942648e-04, 4.6373710e-01, 4.8748574e-01,\n",
       "       4.7824594e-01, 4.9235519e-02], dtype=float32)"
      ]
     },
     "execution_count": 16,
     "metadata": {},
     "output_type": "execute_result"
    }
   ],
   "source": [
    "decoded_latent_z[0][0][0]"
   ]
  },
  {
   "cell_type": "code",
   "execution_count": 18,
   "metadata": {},
   "outputs": [
    {
     "data": {
      "text/plain": [
       "40.11670439928918"
      ]
     },
     "execution_count": 18,
     "metadata": {},
     "output_type": "execute_result"
    }
   ],
   "source": [
    "def MAPE(y_test, y_pred):\n",
    "    return np.mean(np.abs((y_test - y_pred) / y_test)) * 100 \n",
    "    \n",
    "MAPE(x_train[0][0][0], decoded_latent_z[0][0][0])"
   ]
  },
  {
   "cell_type": "code",
   "execution_count": null,
   "metadata": {},
   "outputs": [],
   "source": []
  }
 ],
 "metadata": {
  "kernelspec": {
   "display_name": "Python 3",
   "language": "python",
   "name": "python3"
  },
  "language_info": {
   "codemirror_mode": {
    "name": "ipython",
    "version": 3
   },
   "file_extension": ".py",
   "mimetype": "text/x-python",
   "name": "python",
   "nbconvert_exporter": "python",
   "pygments_lexer": "ipython3",
   "version": "3.8.5"
  }
 },
 "nbformat": 4,
 "nbformat_minor": 4
}
