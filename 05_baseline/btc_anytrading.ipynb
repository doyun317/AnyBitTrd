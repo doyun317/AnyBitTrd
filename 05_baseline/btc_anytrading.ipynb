{
 "cells": [
  {
   "attachments": {},
   "cell_type": "markdown",
   "metadata": {},
   "source": [
    "https://github.com/AminHP/gym-anytrading"
   ]
  },
  {
   "cell_type": "code",
   "execution_count": 35,
   "metadata": {},
   "outputs": [],
   "source": [
    "import numpy as np\n",
    "import pandas as pd\n",
    "\n",
    "import gym\n",
    "import gym_anytrading\n",
    "import quantstats as qs\n",
    "\n",
    "from stable_baselines3.dqn import DQN\n",
    "from stable_baselines3.common.vec_env import DummyVecEnv\n",
    "\n",
    "import matplotlib.pyplot as plt\n",
    "\n",
    "from gym_anytrading.envs import TradingEnv, ForexEnv, StocksEnv, Actions, Positions \n",
    "import torch as th"
   ]
  },
  {
   "cell_type": "code",
   "execution_count": 74,
   "metadata": {},
   "outputs": [],
   "source": [
    "# BTC_df = pd.read_csv(\"out_BTCUSDT_220705.csv\")\n",
    "BTC_df = pd.read_csv(\"out_data.csv\")\n",
    "# BTC_df = pd.read_csv(\"BTC_USDT.csv\")"
   ]
  },
  {
   "cell_type": "code",
   "execution_count": 93,
   "metadata": {},
   "outputs": [],
   "source": [
    "BTC_df=BTC_df.iloc[:50000,:]"
   ]
  },
  {
   "cell_type": "code",
   "execution_count": 94,
   "metadata": {},
   "outputs": [
    {
     "data": {
      "text/html": [
       "<div>\n",
       "<style scoped>\n",
       "    .dataframe tbody tr th:only-of-type {\n",
       "        vertical-align: middle;\n",
       "    }\n",
       "\n",
       "    .dataframe tbody tr th {\n",
       "        vertical-align: top;\n",
       "    }\n",
       "\n",
       "    .dataframe thead th {\n",
       "        text-align: right;\n",
       "    }\n",
       "</style>\n",
       "<table border=\"1\" class=\"dataframe\">\n",
       "  <thead>\n",
       "    <tr style=\"text-align: right;\">\n",
       "      <th></th>\n",
       "      <th>Price</th>\n",
       "      <th>z0</th>\n",
       "      <th>z1</th>\n",
       "      <th>z2</th>\n",
       "    </tr>\n",
       "  </thead>\n",
       "  <tbody>\n",
       "    <tr>\n",
       "      <th>0</th>\n",
       "      <td>6990.95</td>\n",
       "      <td>-0.811159</td>\n",
       "      <td>0.567795</td>\n",
       "      <td>-0.355002</td>\n",
       "    </tr>\n",
       "    <tr>\n",
       "      <th>1</th>\n",
       "      <td>6989.08</td>\n",
       "      <td>-0.557435</td>\n",
       "      <td>0.379988</td>\n",
       "      <td>-0.371280</td>\n",
       "    </tr>\n",
       "    <tr>\n",
       "      <th>2</th>\n",
       "      <td>6986.99</td>\n",
       "      <td>-0.466278</td>\n",
       "      <td>0.326650</td>\n",
       "      <td>-0.369995</td>\n",
       "    </tr>\n",
       "    <tr>\n",
       "      <th>3</th>\n",
       "      <td>6976.85</td>\n",
       "      <td>-0.639778</td>\n",
       "      <td>0.507369</td>\n",
       "      <td>-0.384283</td>\n",
       "    </tr>\n",
       "    <tr>\n",
       "      <th>4</th>\n",
       "      <td>6964.86</td>\n",
       "      <td>-0.831750</td>\n",
       "      <td>0.671901</td>\n",
       "      <td>-0.390888</td>\n",
       "    </tr>\n",
       "    <tr>\n",
       "      <th>...</th>\n",
       "      <td>...</td>\n",
       "      <td>...</td>\n",
       "      <td>...</td>\n",
       "      <td>...</td>\n",
       "    </tr>\n",
       "    <tr>\n",
       "      <th>49995</th>\n",
       "      <td>9900.12</td>\n",
       "      <td>0.591458</td>\n",
       "      <td>-0.120794</td>\n",
       "      <td>1.905484</td>\n",
       "    </tr>\n",
       "    <tr>\n",
       "      <th>49996</th>\n",
       "      <td>9900.13</td>\n",
       "      <td>0.246538</td>\n",
       "      <td>-0.026205</td>\n",
       "      <td>1.898483</td>\n",
       "    </tr>\n",
       "    <tr>\n",
       "      <th>49997</th>\n",
       "      <td>9900.11</td>\n",
       "      <td>0.088514</td>\n",
       "      <td>0.084568</td>\n",
       "      <td>1.902327</td>\n",
       "    </tr>\n",
       "    <tr>\n",
       "      <th>49998</th>\n",
       "      <td>9900.01</td>\n",
       "      <td>-0.387325</td>\n",
       "      <td>0.244207</td>\n",
       "      <td>1.924122</td>\n",
       "    </tr>\n",
       "    <tr>\n",
       "      <th>49999</th>\n",
       "      <td>9884.99</td>\n",
       "      <td>-0.539853</td>\n",
       "      <td>0.307906</td>\n",
       "      <td>1.926025</td>\n",
       "    </tr>\n",
       "  </tbody>\n",
       "</table>\n",
       "<p>50000 rows × 4 columns</p>\n",
       "</div>"
      ],
      "text/plain": [
       "         Price        z0        z1        z2\n",
       "0      6990.95 -0.811159  0.567795 -0.355002\n",
       "1      6989.08 -0.557435  0.379988 -0.371280\n",
       "2      6986.99 -0.466278  0.326650 -0.369995\n",
       "3      6976.85 -0.639778  0.507369 -0.384283\n",
       "4      6964.86 -0.831750  0.671901 -0.390888\n",
       "...        ...       ...       ...       ...\n",
       "49995  9900.12  0.591458 -0.120794  1.905484\n",
       "49996  9900.13  0.246538 -0.026205  1.898483\n",
       "49997  9900.11  0.088514  0.084568  1.902327\n",
       "49998  9900.01 -0.387325  0.244207  1.924122\n",
       "49999  9884.99 -0.539853  0.307906  1.926025\n",
       "\n",
       "[50000 rows x 4 columns]"
      ]
     },
     "execution_count": 94,
     "metadata": {},
     "output_type": "execute_result"
    }
   ],
   "source": [
    "BTC_df"
   ]
  },
  {
   "cell_type": "code",
   "execution_count": 95,
   "metadata": {},
   "outputs": [],
   "source": [
    "def my_process_data(env):\n",
    "    start = env.frame_bound[0] - env.window_size\n",
    "    end = env.frame_bound[1]\n",
    "    prices = env.df.loc[:, 'Price'].to_numpy()[start:end]\n",
    "    signal_features = env.df.loc[:, ['z0', 'z1', 'z2']].to_numpy()[start:end]\n",
    "    return prices, signal_features\n",
    "\n",
    "\n",
    "\n",
    "# def my_process_data(env):\n",
    "#     prices = env.df.loc[:, 'close'].to_numpy()\n",
    "\n",
    "#     prices[env.frame_bound[0] - env.window_size]  # validate index (TODO: Improve validation)\n",
    "#     prices = prices[env.frame_bound[0]-env.window_size:env.frame_bound[1]]\n",
    "\n",
    "#     diff = np.insert(np.diff(prices), 0, 0)\n",
    "#     signal_features = np.column_stack((prices, diff))\n",
    "\n",
    "#     return prices, signal_features\n",
    "\n",
    "class MyCoinEnv(StocksEnv):\n",
    "    _process_data = my_process_data\n",
    "\n",
    "\n",
    "env_maker = lambda: MyCoinEnv(df=BTC_df, window_size=1, frame_bound=(2, len(BTC_df)))\n",
    "\n",
    "env = DummyVecEnv([env_maker])\n",
    "\n",
    "window_size = 1\n",
    "start_index = window_size\n",
    "end_index = len(BTC_df)\n",
    "\n",
    "env.trade_fee_bid_percent=0.0002\n",
    "env.trade_fee_ask_percent=0.0002\n"
   ]
  },
  {
   "cell_type": "code",
   "execution_count": 96,
   "metadata": {},
   "outputs": [
    {
     "data": {
      "application/vnd.jupyter.widget-view+json": {
       "model_id": "abb880575a264edcbd89cea7c933b15c",
       "version_major": 2,
       "version_minor": 0
      },
      "text/plain": [
       "Output()"
      ]
     },
     "metadata": {},
     "output_type": "display_data"
    },
    {
     "name": "stdout",
     "output_type": "stream",
     "text": [
      "Using cpu device\n"
     ]
    },
    {
     "name": "stdout",
     "output_type": "stream",
     "text": [
      "----------------------------------\n",
      "| rollout/            |          |\n",
      "|    exploration_rate | 0.05     |\n",
      "| time/               |          |\n",
      "|    episodes         | 4        |\n",
      "|    fps              | 1472     |\n",
      "|    time_elapsed     | 135      |\n",
      "|    total_timesteps  | 199988   |\n",
      "| train/              |          |\n",
      "|    learning_rate    | 0.0001   |\n",
      "|    loss             | 0.00653  |\n",
      "|    n_updates        | 37496    |\n",
      "----------------------------------\n"
     ]
    },
    {
     "data": {
      "text/html": [
       "<pre style=\"white-space:pre;overflow-x:auto;line-height:normal;font-family:Menlo,'DejaVu Sans Mono',consolas,'Courier New',monospace\"></pre>\n"
      ],
      "text/plain": []
     },
     "metadata": {},
     "output_type": "display_data"
    },
    {
     "data": {
      "text/html": [
       "<pre style=\"white-space:pre;overflow-x:auto;line-height:normal;font-family:Menlo,'DejaVu Sans Mono',consolas,'Courier New',monospace\">\n",
       "</pre>\n"
      ],
      "text/plain": [
       "\n"
      ]
     },
     "metadata": {},
     "output_type": "display_data"
    },
    {
     "data": {
      "text/plain": [
       "<stable_baselines3.dqn.dqn.DQN at 0x182b8b474c0>"
      ]
     },
     "execution_count": 96,
     "metadata": {},
     "output_type": "execute_result"
    }
   ],
   "source": [
    "model = DQN('MlpPolicy', env, verbose=1)\n",
    "model.learn(total_timesteps=200000, progress_bar=True)\n",
    "     "
   ]
  },
  {
   "cell_type": "code",
   "execution_count": 103,
   "metadata": {},
   "outputs": [
    {
     "name": "stdout",
     "output_type": "stream",
     "text": [
      "info: {'total_reward': -26194.670000000064, 'total_profit': 4.72135986189268e-25, 'position': 1}\n"
     ]
    }
   ],
   "source": [
    "env = env_maker()\n",
    "observation = env.reset()\n",
    "\n",
    "while True:\n",
    "    observation = observation[np.newaxis, ...]\n",
    "\n",
    "    # action = env.action_space.sample()\n",
    "    action, _states = model.predict(observation)\n",
    "\n",
    "    # with th.no_grad():\n",
    "    #     obs_tensor, _ = model.q_net.obs_to_tensor(observation)\n",
    "    #     q_values = model.q_net(obs_tensor)\n",
    "        #print(q_values)\n",
    "    #print(_states)\n",
    "    \n",
    "    observation, reward, done, info = env.step(action)\n",
    "    #print(observation)\n",
    "    # print(reward)\n",
    "    # env.render()\n",
    "    if done:\n",
    "        print(\"info:\", info)\n",
    "        break\n",
    "     "
   ]
  },
  {
   "cell_type": "code",
   "execution_count": 104,
   "metadata": {},
   "outputs": [
    {
     "data": {
      "image/png": "[encoded data removed]",
      "text/plain": [
       "<Figure size 2304x432 with 1 Axes>"
      ]
     },
     "metadata": {
      "needs_background": "light"
     },
     "output_type": "display_data"
    }
   ],
   "source": [
    "plt.figure(figsize=(32, 6))\n",
    "env.render_all()\n",
    "plt.show()"
   ]
  },
  {
   "cell_type": "code",
   "execution_count": 105,
   "metadata": {},
   "outputs": [
    {
     "name": "stdout",
     "output_type": "stream",
     "text": [
      "env information:\n",
      "> shape: (1, 3)\n",
      "> df.shape: (50000, 4)\n",
      "> prices.shape: (49999,)\n",
      "> signal_features.shape: (49999, 3)\n",
      "> max_possible_profit: 77171133.98129664\n"
     ]
    }
   ],
   "source": [
    "print(\"env information:\")\n",
    "print(\"> shape:\", env.shape)\n",
    "print(\"> df.shape:\", env.df.shape)\n",
    "print(\"> prices.shape:\", env.prices.shape)\n",
    "print(\"> signal_features.shape:\", env.signal_features.shape)\n",
    "print(\"> max_possible_profit:\", env.max_possible_profit())\n"
   ]
  },
  {
   "cell_type": "code",
   "execution_count": null,
   "metadata": {},
   "outputs": [],
   "source": []
  },
  {
   "cell_type": "code",
   "execution_count": null,
   "metadata": {},
   "outputs": [],
   "source": []
  },
  {
   "cell_type": "code",
   "execution_count": null,
   "metadata": {},
   "outputs": [],
   "source": []
  },
  {
   "cell_type": "code",
   "execution_count": null,
   "metadata": {},
   "outputs": [],
   "source": []
  },
  {
   "cell_type": "code",
   "execution_count": null,
   "metadata": {},
   "outputs": [],
   "source": []
  },
  {
   "cell_type": "code",
   "execution_count": 29,
   "metadata": {},
   "outputs": [
    {
     "ename": "AttributeError",
     "evalue": "'int' object has no attribute 'days'",
     "output_type": "error",
     "traceback": [
      "\u001b[1;31m---------------------------------------------------------------------------\u001b[0m",
      "\u001b[1;31mAttributeError\u001b[0m                            Traceback (most recent call last)",
      "\u001b[1;32mc:\\Users\\User\\Desktop\\coin_reinforcement_trading\\05_baseline\\btc_anytrading.ipynb 셀 12\u001b[0m in \u001b[0;36m<cell line: 6>\u001b[1;34m()\u001b[0m\n\u001b[0;32m      <a href='vscode-notebook-cell:/c%3A/Users/User/Desktop/coin_reinforcement_trading/05_baseline/btc_anytrading.ipynb#X16sZmlsZQ%3D%3D?line=2'>3</a>\u001b[0m net_worth \u001b[39m=\u001b[39m pd\u001b[39m.\u001b[39mSeries(env\u001b[39m.\u001b[39mhistory[\u001b[39m'\u001b[39m\u001b[39mtotal_profit\u001b[39m\u001b[39m'\u001b[39m], index\u001b[39m=\u001b[39mBTC_df\u001b[39m.\u001b[39mindex[start_index\u001b[39m+\u001b[39m\u001b[39m2\u001b[39m:end_index])\n\u001b[0;32m      <a href='vscode-notebook-cell:/c%3A/Users/User/Desktop/coin_reinforcement_trading/05_baseline/btc_anytrading.ipynb#X16sZmlsZQ%3D%3D?line=3'>4</a>\u001b[0m returns \u001b[39m=\u001b[39m net_worth\u001b[39m.\u001b[39mpct_change()\u001b[39m.\u001b[39miloc[\u001b[39m1\u001b[39m:]\n\u001b[1;32m----> <a href='vscode-notebook-cell:/c%3A/Users/User/Desktop/coin_reinforcement_trading/05_baseline/btc_anytrading.ipynb#X16sZmlsZQ%3D%3D?line=5'>6</a>\u001b[0m qs\u001b[39m.\u001b[39;49mreports\u001b[39m.\u001b[39;49mfull(returns)\n\u001b[0;32m      <a href='vscode-notebook-cell:/c%3A/Users/User/Desktop/coin_reinforcement_trading/05_baseline/btc_anytrading.ipynb#X16sZmlsZQ%3D%3D?line=6'>7</a>\u001b[0m qs\u001b[39m.\u001b[39mreports\u001b[39m.\u001b[39mhtml(returns, output\u001b[39m=\u001b[39m\u001b[39m'\u001b[39m\u001b[39mdqn_quantstats.html\u001b[39m\u001b[39m'\u001b[39m)\n",
      "File \u001b[1;32mc:\\Users\\User\\anaconda3\\lib\\site-packages\\quantstats\\reports.py:278\u001b[0m, in \u001b[0;36mfull\u001b[1;34m(returns, benchmark, rf, grayscale, figsize, display, compounded, periods_per_year, match_dates)\u001b[0m\n\u001b[0;32m    275\u001b[0m         returns, benchmark \u001b[39m=\u001b[39m _match_dates(returns, benchmark)\n\u001b[0;32m    277\u001b[0m dd \u001b[39m=\u001b[39m _stats\u001b[39m.\u001b[39mto_drawdown_series(returns)\n\u001b[1;32m--> 278\u001b[0m col \u001b[39m=\u001b[39m _stats\u001b[39m.\u001b[39;49mdrawdown_details(dd)\u001b[39m.\u001b[39mcolumns[\u001b[39m4\u001b[39m]\n\u001b[0;32m    279\u001b[0m dd_info \u001b[39m=\u001b[39m _stats\u001b[39m.\u001b[39mdrawdown_details(dd)\u001b[39m.\u001b[39msort_values(by \u001b[39m=\u001b[39m col,\n\u001b[0;32m    280\u001b[0m                                                    ascending \u001b[39m=\u001b[39m \u001b[39mTrue\u001b[39;00m)[:\u001b[39m5\u001b[39m]\n\u001b[0;32m    282\u001b[0m \u001b[39mif\u001b[39;00m \u001b[39mnot\u001b[39;00m dd_info\u001b[39m.\u001b[39mempty:\n",
      "File \u001b[1;32mc:\\Users\\User\\anaconda3\\lib\\site-packages\\quantstats\\stats.py:820\u001b[0m, in \u001b[0;36mdrawdown_details\u001b[1;34m(drawdown)\u001b[0m\n\u001b[0;32m    817\u001b[0m         _dfs[col] \u001b[39m=\u001b[39m _drawdown_details(drawdown[col])\n\u001b[0;32m    818\u001b[0m     \u001b[39mreturn\u001b[39;00m _pd\u001b[39m.\u001b[39mconcat(_dfs, axis\u001b[39m=\u001b[39m\u001b[39m1\u001b[39m)\n\u001b[1;32m--> 820\u001b[0m \u001b[39mreturn\u001b[39;00m _drawdown_details(drawdown)\n",
      "File \u001b[1;32mc:\\Users\\User\\anaconda3\\lib\\site-packages\\quantstats\\stats.py:797\u001b[0m, in \u001b[0;36mdrawdown_details.<locals>._drawdown_details\u001b[1;34m(drawdown)\u001b[0m\n\u001b[0;32m    794\u001b[0m     dd \u001b[39m=\u001b[39m drawdown[starts[i]:ends[i]]\n\u001b[0;32m    795\u001b[0m     clean_dd \u001b[39m=\u001b[39m \u001b[39m-\u001b[39mremove_outliers(\u001b[39m-\u001b[39mdd, \u001b[39m.99\u001b[39m)\n\u001b[0;32m    796\u001b[0m     data\u001b[39m.\u001b[39mappend((starts[i], dd\u001b[39m.\u001b[39midxmin(), ends[i],\n\u001b[1;32m--> 797\u001b[0m                  (ends[i] \u001b[39m-\u001b[39;49m starts[i])\u001b[39m.\u001b[39;49mdays,\n\u001b[0;32m    798\u001b[0m                  dd\u001b[39m.\u001b[39mmin() \u001b[39m*\u001b[39m \u001b[39m100\u001b[39m, clean_dd\u001b[39m.\u001b[39mmin() \u001b[39m*\u001b[39m \u001b[39m100\u001b[39m))\n\u001b[0;32m    800\u001b[0m df \u001b[39m=\u001b[39m _pd\u001b[39m.\u001b[39mDataFrame(data\u001b[39m=\u001b[39mdata,\n\u001b[0;32m    801\u001b[0m                    columns\u001b[39m=\u001b[39m(\u001b[39m'\u001b[39m\u001b[39mstart\u001b[39m\u001b[39m'\u001b[39m, \u001b[39m'\u001b[39m\u001b[39mvalley\u001b[39m\u001b[39m'\u001b[39m, \u001b[39m'\u001b[39m\u001b[39mend\u001b[39m\u001b[39m'\u001b[39m, \u001b[39m'\u001b[39m\u001b[39mdays\u001b[39m\u001b[39m'\u001b[39m,\n\u001b[0;32m    802\u001b[0m                             \u001b[39m'\u001b[39m\u001b[39mmax drawdown\u001b[39m\u001b[39m'\u001b[39m,\n\u001b[0;32m    803\u001b[0m                             \u001b[39m'\u001b[39m\u001b[39m99\u001b[39m\u001b[39m%\u001b[39m\u001b[39m max drawdown\u001b[39m\u001b[39m'\u001b[39m))\n\u001b[0;32m    804\u001b[0m df[\u001b[39m'\u001b[39m\u001b[39mdays\u001b[39m\u001b[39m'\u001b[39m] \u001b[39m=\u001b[39m df[\u001b[39m'\u001b[39m\u001b[39mdays\u001b[39m\u001b[39m'\u001b[39m]\u001b[39m.\u001b[39mastype(\u001b[39mint\u001b[39m)\n",
      "\u001b[1;31mAttributeError\u001b[0m: 'int' object has no attribute 'days'"
     ]
    }
   ],
   "source": [
    "\n",
    "qs.extend_pandas()\n",
    "\n",
    "net_worth = pd.Series(env.history['total_profit'], index=BTC_df.index[start_index+2:end_index])\n",
    "returns = net_worth.pct_change().iloc[1:]\n",
    "\n",
    "qs.reports.full(returns)\n",
    "qs.reports.html(returns, output='dqn_quantstats.html')"
   ]
  },
  {
   "cell_type": "code",
   "execution_count": null,
   "metadata": {},
   "outputs": [],
   "source": []
  }
 ],
 "metadata": {
  "kernelspec": {
   "display_name": "base",
   "language": "python",
   "name": "python3"
  },
  "language_info": {
   "codemirror_mode": {
    "name": "ipython",
    "version": 3
   },
   "file_extension": ".py",
   "mimetype": "text/x-python",
   "name": "python",
   "nbconvert_exporter": "python",
   "pygments_lexer": "ipython3",
   "version": "3.8.0"
  },
  "orig_nbformat": 4,
  "vscode": {
   "interpreter": {
    "hash": "f08154012ddadd8e950e6e9e035c7a7b32c136e7647e9b7c77e02eb723a8bedb"
   }
  }
 },
 "nbformat": 4,
 "nbformat_minor": 2
}
